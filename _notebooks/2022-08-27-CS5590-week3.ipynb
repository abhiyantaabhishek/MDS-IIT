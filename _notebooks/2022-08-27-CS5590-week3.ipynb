{
 "cells": [
  {
   "cell_type": "markdown",
   "metadata": {},
   "source": [
    "# Classifiers (Decision Trees, NBC)\n",
    "> Foundations of Machine Learning CS5590  week 3\n",
    "\n",
    "- toc: true \n",
    "- badges: true\n",
    "- comments: true\n",
    "- categories: [Foundations of Machine Learning ]\n",
    "- author: Abhishek Kumar Dubey\n",
    "- image: images/CS5590_images/chrome_CNeo323E9V.png"
   ]
  },
  {
   "cell_type": "markdown",
   "metadata": {},
   "source": [
    "# Decision Trees"
   ]
  },
  {
   "cell_type": "markdown",
   "metadata": {},
   "source": [
    "- An efficient nonparametric method.\n",
    "- A hierarchical model.\n",
    "- Divide and conquer strategy.\n",
    "- Internal decision nodes\n",
    "    - Univariate : It uses a single attribute $X_i$\n",
    "        - Numeric $X_i$:\n",
    "            - If numeric data perform Binary split:$X_i>w_m$\n",
    "        - Discrete $X_i$:\n",
    "            - For discrete data perform n- way split for n possible values\n",
    "    - Multivariate: It uses more than one attributes, $X$\n",
    "- Leaves\n",
    "    - Classification : Class labels, or proportions\n",
    "    - Regression : Numeric, r average, or local fit\n",
    "- Learning is __greedy__; find the best split recursively.\n",
    "- For node $m$, $N_m$ instances reach $m$, $N_m^i$ belong to $C_i$ <br>\n",
    "  $ \\hat P(C_i|X,m)\\equiv p_m^i = \\frac{N_m^i}{N_m} $\n",
    "- Node $m$ is pure if $p_m^i$ is $0$ or $1$\n",
    "- Measure if impurity is entropy<br>\n",
    "$ \\displaystyle I_m=-\\sum_{i=1}^kp_m^i \\log_2p_m^i$\n"
   ]
  },
  {
   "cell_type": "markdown",
   "metadata": {},
   "source": [
    "compare probability distributions vs entropy"
   ]
  },
  {
   "cell_type": "code",
   "execution_count": 10,
   "metadata": {},
   "outputs": [
    {
     "data": {
      "image/png": "[encoded data removed]",
      "text/plain": [
       "<Figure size 432x288 with 1 Axes>"
      ]
     },
     "metadata": {
      "needs_background": "light"
     },
     "output_type": "display_data"
    }
   ],
   "source": [
    "#collapse-hide\n",
    "from matplotlib import pyplot\n",
    "import matplotlib.pyplot as plt\n",
    "import numpy as np\n",
    "# calculate entropy\n",
    "def entropy(events, ets=1e-15):\n",
    "\treturn -sum([p * np.log2(p + ets) for p in events])\n",
    "\n",
    "# define probabilities\n",
    "probs = np.arange(0.0001,1,0.001) \n",
    "# create probability distribution\n",
    "dists = [[p, 1.0 - p] for p in probs]\n",
    "# calculate entropy for each distribution\n",
    "ents = [entropy(d) for d in dists]\n",
    "# plot probability distribution vs entropy\n",
    "plt.plot(probs, ents)\n",
    "plt.title('Probability Distribution vs Entropy for 2 class problem')\n",
    "plt.xlabel('Probability Distribution')\n",
    "plt.ylabel('Entropy (bits)')\n",
    "plt.show()"
   ]
  },
  {
   "cell_type": "markdown",
   "metadata": {},
   "source": [
    "Entropy in information theory specifies the __average (expected) amount of information derived from observing an event__ ."
   ]
  },
  {
   "cell_type": "markdown",
   "metadata": {},
   "source": [
    "## How to generate decision tree"
   ]
  },
  {
   "cell_type": "markdown",
   "metadata": {},
   "source": [
    "\n",
    "- Select a root not which divides the data best based on impurity measures.\n",
    "- If node is pure, generate a leaf and stop, otherwise split and continue recursively.\n",
    "- Impurity after split: \n",
    "    -  It is probability weighted entropy given by:\n",
    "        - $ \\displaystyle I_m^{\\prime }=-\\sum_{j=1}^{n}\\frac{N_{mj}}{N_m}\\sum_{i=1}^kp_{mj}^i\\log_2p_{mj}^i$,<br>\n",
    "          here, $N_{mj}$ is $j^{th}$ branch of $N_m$ and $N_{mj}^i$ belongs to $i^{th}$ class.\n",
    "- Information gain: Expected reduction in impurity measure after split. Chose the attribute with maximum information gain.\n",
    "- Other impurity measure method - Gini impurity/index : $ \\displaystyle 1- \\sum_{j=1}^cp_j^2$"
   ]
  },
  {
   "cell_type": "markdown",
   "metadata": {},
   "source": [
    "## Overfitting and generalization"
   ]
  },
  {
   "cell_type": "markdown",
   "metadata": {},
   "source": [
    "- Noisy training example or if only small number of samples are associated leaf nodes can cause overfitting.\n",
    "- Using Pruning for better generalization\n",
    "    - Pruning is the process of removing subtree.\n",
    "        - Pre-pruning: Early stopping, after a predetermined performance.\n",
    "        - Post-pruning: Grow the whole then prune the subtree which overfit on the pruning set\n",
    "    - Pre-pruning is faster, post-pruning is more accurate. "
   ]
  },
  {
   "cell_type": "markdown",
   "metadata": {},
   "source": [
    "## Occam's Razor Principle\n",
    "When multiple hypotheses can solve the problem chose the simplest one\n"
   ]
  },
  {
   "cell_type": "markdown",
   "metadata": {},
   "source": [
    "## Select best tree\n",
    "- Measure performance over training and separate validation data set\n",
    "- Minimum Description Length : Minimize `size(tree)+size(miscalssifications(tree))`"
   ]
  },
  {
   "cell_type": "markdown",
   "metadata": {},
   "source": [
    "## Rule Extraction from Trees\n",
    "- Convert tree to equivalent set of rules.(\"if else\" condition for example).\n",
    "-  Prune each rules independently of others, by removing any pre-conditions that result in improving its estimates accuracy.\n",
    "- Sort final rules into desired sequence for use."
   ]
  },
  {
   "cell_type": "code",
   "execution_count": 1,
   "metadata": {},
   "outputs": [],
   "source": [
    "from sklearn.datasets import load_iris\n",
    "from sklearn import tree\n",
    "iris = load_iris()\n",
    "X, y = iris.data, iris.target\n",
    "clf = tree.DecisionTreeClassifier()\n",
    "clf = clf.fit(X, y)"
   ]
  },
  {
   "cell_type": "code",
   "execution_count": 2,
   "metadata": {},
   "outputs": [
    {
     "data": {
      "text/plain": [
       "[Text(0.5, 0.9166666666666666, 'X[2] <= 2.45\\ngini = 0.667\\nsamples = 150\\nvalue = [50, 50, 50]'),\n",
       " Text(0.4230769230769231, 0.75, 'gini = 0.0\\nsamples = 50\\nvalue = [50, 0, 0]'),\n",
       " Text(0.5769230769230769, 0.75, 'X[3] <= 1.75\\ngini = 0.5\\nsamples = 100\\nvalue = [0, 50, 50]'),\n",
       " Text(0.3076923076923077, 0.5833333333333334, 'X[2] <= 4.95\\ngini = 0.168\\nsamples = 54\\nvalue = [0, 49, 5]'),\n",
       " Text(0.15384615384615385, 0.4166666666666667, 'X[3] <= 1.65\\ngini = 0.041\\nsamples = 48\\nvalue = [0, 47, 1]'),\n",
       " Text(0.07692307692307693, 0.25, 'gini = 0.0\\nsamples = 47\\nvalue = [0, 47, 0]'),\n",
       " Text(0.23076923076923078, 0.25, 'gini = 0.0\\nsamples = 1\\nvalue = [0, 0, 1]'),\n",
       " Text(0.46153846153846156, 0.4166666666666667, 'X[3] <= 1.55\\ngini = 0.444\\nsamples = 6\\nvalue = [0, 2, 4]'),\n",
       " Text(0.38461538461538464, 0.25, 'gini = 0.0\\nsamples = 3\\nvalue = [0, 0, 3]'),\n",
       " Text(0.5384615384615384, 0.25, 'X[0] <= 6.95\\ngini = 0.444\\nsamples = 3\\nvalue = [0, 2, 1]'),\n",
       " Text(0.46153846153846156, 0.08333333333333333, 'gini = 0.0\\nsamples = 2\\nvalue = [0, 2, 0]'),\n",
       " Text(0.6153846153846154, 0.08333333333333333, 'gini = 0.0\\nsamples = 1\\nvalue = [0, 0, 1]'),\n",
       " Text(0.8461538461538461, 0.5833333333333334, 'X[2] <= 4.85\\ngini = 0.043\\nsamples = 46\\nvalue = [0, 1, 45]'),\n",
       " Text(0.7692307692307693, 0.4166666666666667, 'X[1] <= 3.1\\ngini = 0.444\\nsamples = 3\\nvalue = [0, 1, 2]'),\n",
       " Text(0.6923076923076923, 0.25, 'gini = 0.0\\nsamples = 2\\nvalue = [0, 0, 2]'),\n",
       " Text(0.8461538461538461, 0.25, 'gini = 0.0\\nsamples = 1\\nvalue = [0, 1, 0]'),\n",
       " Text(0.9230769230769231, 0.4166666666666667, 'gini = 0.0\\nsamples = 43\\nvalue = [0, 0, 43]')]"
      ]
     },
     "execution_count": 2,
     "metadata": {},
     "output_type": "execute_result"
    },
    {
     "data": {
      "image/png": "[encoded data removed]",
      "text/plain": [
       "<Figure size 432x288 with 1 Axes>"
      ]
     },
     "metadata": {
      "needs_background": "light"
     },
     "output_type": "display_data"
    }
   ],
   "source": [
    "tree.plot_tree(clf)"
   ]
  },
  {
   "cell_type": "code",
   "execution_count": 3,
   "metadata": {},
   "outputs": [
    {
     "ename": "ModuleNotFoundError",
     "evalue": "No module named 'graphviz'",
     "output_type": "error",
     "traceback": [
      "\u001b[0;31m---------------------------------------------------------------------------\u001b[0m",
      "\u001b[0;31mModuleNotFoundError\u001b[0m                       Traceback (most recent call last)",
      "\u001b[1;32m/home/yasmi/abhi/MDS-IIT/_notebooks/2022-08-27-CS5590-week3.ipynb Cell 16\u001b[0m in \u001b[0;36m<cell line: 1>\u001b[0;34m()\u001b[0m\n\u001b[0;32m----> <a href='vscode-notebook-cell://wsl%2Bubuntu/home/yasmi/abhi/MDS-IIT/_notebooks/2022-08-27-CS5590-week3.ipynb#X21sdnNjb2RlLXJlbW90ZQ%3D%3D?line=0'>1</a>\u001b[0m \u001b[39mimport\u001b[39;00m \u001b[39mgraphviz\u001b[39;00m \n\u001b[1;32m      <a href='vscode-notebook-cell://wsl%2Bubuntu/home/yasmi/abhi/MDS-IIT/_notebooks/2022-08-27-CS5590-week3.ipynb#X21sdnNjb2RlLXJlbW90ZQ%3D%3D?line=1'>2</a>\u001b[0m dot_data \u001b[39m=\u001b[39m tree\u001b[39m.\u001b[39mexport_graphviz(clf, out_file\u001b[39m=\u001b[39m\u001b[39mNone\u001b[39;00m) \n\u001b[1;32m      <a href='vscode-notebook-cell://wsl%2Bubuntu/home/yasmi/abhi/MDS-IIT/_notebooks/2022-08-27-CS5590-week3.ipynb#X21sdnNjb2RlLXJlbW90ZQ%3D%3D?line=2'>3</a>\u001b[0m graph \u001b[39m=\u001b[39m graphviz\u001b[39m.\u001b[39mSource(dot_data) \n",
      "\u001b[0;31mModuleNotFoundError\u001b[0m: No module named 'graphviz'"
     ]
    }
   ],
   "source": [
    "import graphviz \n",
    "dot_data = tree.export_graphviz(clf, out_file=None) \n",
    "graph = graphviz.Source(dot_data) \n",
    "graph.render(\"iris\") "
   ]
  },
  {
   "cell_type": "markdown",
   "metadata": {},
   "source": [
    "# Naive Bayes"
   ]
  },
  {
   "cell_type": "markdown",
   "metadata": {},
   "source": [
    "![](../images/CS5590_images/Acrobat_BRXKLqY6Wd.png)"
   ]
  },
  {
   "cell_type": "markdown",
   "metadata": {},
   "source": [
    "- In Naive Bayes classifier goal is to learn function $f:X\\rightarrow y$, where $y$ is one of $k$ classes and  $X=X_1,...,X_n$: values of attributes (numeric or categorical)\n",
    "- It is a probabilistic classification \n",
    "    - most probable class given observation: $\\displaystyle \\hat{y}=\\arg \\max_y P(y|x)$\n",
    "    - Bayesian probability of a class:<br><br>\n",
    "    $\\displaystyle P\\left( Y|X \\right)=\\frac{P\\left( X|Y \\right)P\\left( Y \\right)}{\\sum_{y'}P\\left( X|Y' \\right)P\\left( Y' \\right)}$<br>"
   ]
  },
  {
   "cell_type": "markdown",
   "metadata": {},
   "source": [
    "## Formulation"
   ]
  },
  {
   "cell_type": "markdown",
   "metadata": {},
   "source": [
    "- consider a record with attributes $A_1,A_2,\\dots ,A_n$ \n",
    "- Goal is to predict class $C$\n",
    "- Specifically, we want to find the value of $C$ that maximizes $P(C|A_1,A_2,\\dots,A_n)$"
   ]
  },
  {
   "cell_type": "markdown",
   "metadata": {},
   "source": [
    "![](../images/CS5590_images/Acrobat_1cXslTMZjX.png)"
   ]
  },
  {
   "cell_type": "markdown",
   "metadata": {},
   "source": [
    "- what is Naive about Naive Bayes?\n",
    "    - The attributes are considered independent of each other, this is Naive in Naive Bayes."
   ]
  },
  {
   "cell_type": "markdown",
   "metadata": {},
   "source": [
    "- AS we assume independence among attributes $A_i$ so we can write:<br>\n",
    "  $P(A_1,A_2,\\dots ,A_n|C_j)=P(A_i|C_j)P(A_2|C_j)\\dots P(A_n|C_j)$\n",
    "- New point is classified to $C_j$ if <br>\n",
    "  $P(C_j)\\prod_{j}P(A_i|C_j)=P(C_j)P(A_i|C_j)(A_2|C_j)\\dots P(A_n|C_j) $ is __maximal__ .\n",
    "- Assume that all hypotheses (classes) are equally probable a priori, i.e., $P(C_i)=P(C_j)$ for all $i,j$\n",
    "- This is called assuming a uniform prior. It simplifies computing the posterior:<br>\n",
    "  $\\displaystyle C_{ML}=\\arg \\max_c P(A_1,A_2,\\dots A_n|C)$\n",
    "- This hypothesis is called the __maximum likelihood hypothesis__ ."
   ]
  },
  {
   "cell_type": "markdown",
   "metadata": {},
   "source": [
    "## Example \n"
   ]
  },
  {
   "cell_type": "code",
   "execution_count": 8,
   "metadata": {},
   "outputs": [
    {
     "name": "stdout",
     "output_type": "stream",
     "text": [
      "  Day   Outlook Temperature Humidity    Wind Play Tennis\n",
      "0  D1     Sunny         Hot     High    Weak          No\n",
      "1  D2     Sunny         Hot     High  Strong          No\n",
      "2  D3  Overcast         Hot     High    Weak         Yes\n",
      "3  D4      Rain        Mild     High    Weak         Yes\n",
      "4  D5      Rain        Cool   Normal    Weak         Yes\n"
     ]
    }
   ],
   "source": [
    "import pandas as pd\n",
    "Attributes =['Day',    'Outlook',  'Temperature',      'Humidity',     'Wind',     'Play Tennis']\n",
    "data      =[['D1',     'Sunny',    'Hot',              'High',         'Weak',       'No'         ],\n",
    "            ['D2',     'Sunny',    'Hot',              'High',         'Strong',     'No'         ],\n",
    "            ['D3',     'Overcast',  'Hot',              'High',        'Weak',       'Yes'        ],\n",
    "            ['D4',     'Rain',    'Mild',              'High',         'Weak',       'Yes'        ],\n",
    "            ['D5',     'Rain',    'Cool',              'Normal',       'Weak',       'Yes'        ],\n",
    "            ['D6',     'Rain',    'Cool',              'Normal',       'Strong',     'No'         ],\n",
    "            ['D7',     'Overcast', 'Cool',             'Normal',       'Strong',     'Yes'        ],\n",
    "            ['D8',     'Sunny',    'Mild',              'High',        'Weak',       'No'         ],\n",
    "            ['D9',     'Sunny',    'Cool',             'Normal',       'Weak',       'Yes'        ],\n",
    "            ['D10',    'Rain',    'Mild',              'Normal',       'Weak',       'Yes'        ],\n",
    "            ['D11',    'Sunny',    'Mild',             'Normal',       'Strong',     'Yes'        ],\n",
    "            ['D12',    'Overcast', 'Mild',              'High',        'Strong',     'Yes'        ],\n",
    "            ['D13',    'Overcast',  'Hot',             'Normal',       'Weak',       'Yes'        ],\n",
    "            ['D14',    'Rain',    'Mild',              'High',         'Strong',     'No'         ]]\n",
    "df = pd.DataFrame(columns=Attributes,data=data)\n",
    "print(df.head())"
   ]
  },
  {
   "cell_type": "markdown",
   "metadata": {},
   "source": []
  }
 ],
 "metadata": {
  "kernelspec": {
   "display_name": "Python 3.9.12 ('base')",
   "language": "python",
   "name": "python3"
  },
  "language_info": {
   "codemirror_mode": {
    "name": "ipython",
    "version": 3
   },
   "file_extension": ".py",
   "mimetype": "text/x-python",
   "name": "python",
   "nbconvert_exporter": "python",
   "pygments_lexer": "ipython3",
   "version": "3.9.12"
  },
  "orig_nbformat": 4,
  "vscode": {
   "interpreter": {
    "hash": "b92a85dd111e7f234cbdfd9e3dc75ce12717f6161daa18a82d26f0e8e840c205"
   }
  }
 },
 "nbformat": 4,
 "nbformat_minor": 2
}
