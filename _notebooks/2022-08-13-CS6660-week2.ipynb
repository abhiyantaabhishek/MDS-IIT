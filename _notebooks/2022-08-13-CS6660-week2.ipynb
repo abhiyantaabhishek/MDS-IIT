{
 "cells": [
  {
   "cell_type": "markdown",
   "metadata": {},
   "source": [
    "# Discrete Random variable\n",
    "> Discrete Random variable for Data Science\n",
    "\n",
    "- toc: true \n",
    "- badges: false\n",
    "- comments: true\n",
    "- categories: [Probability]\n",
    "- author: Abhishek Kumar Dubey\n",
    "- image: images/2022-08-06-CS6660-week1-preview.jpg"
   ]
  },
  {
   "cell_type": "markdown",
   "metadata": {},
   "source": [
    "A random variable is a function from a sample space $\\Omega$ to the real numbers $\\mathbb{R}$<br>\n",
    "A random variable $X$ that can take on finitely or countably  infinitely many possible values is called discrete."
   ]
  },
  {
   "cell_type": "markdown",
   "metadata": {},
   "source": [
    "## Indicator random variable\n",
    "$X=\\left\\lbrace \\begin{array}{ll}\n",
    "1, & \\mathrm{if}\\;\\mathrm{event}\\;E\\;\\mathrm{occurs}\\\\\n",
    "0, & \\mathrm{if}\\;\\mathrm{event}\\;E^c \\;\\mathrm{occurs}\n",
    "\\end{array}\\right.$<br>\n",
    "$\\mathrm{EX}=0\\cdot p\\left(0\\right)+1\\cdot p\\left(1\\right)=P\\left\\lbrace E\\right\\rbrace$<br>\n",
    "$\\mathrm{VarX}={\\mathrm{EX}}^2 -{\\left(\\mathrm{EX}\\right)}^2 =\\left(1^2 \\cdot P\\left\\lbrace E\\right\\rbrace +0^2 \\cdot P\\left\\lbrace E^c \\right\\rbrace \\right)-{\\left(P\\left\\lbrace E\\right\\rbrace \\right)}^2 =P\\left\\lbrace E\\right\\rbrace \\cdot \\left(1-P\\left\\lbrace E\\right\\rbrace \\right)$<br>\n",
    "$\\mathrm{SD}\\;X=\\sqrt{P\\left\\lbrace E\\right\\rbrace \\cdot \\left(1-P\\left\\lbrace E\\right\\rbrace \\right)}$<br>\n"
   ]
  },
  {
   "cell_type": "markdown",
   "metadata": {},
   "source": [
    "## Mass function\n",
    "Let $X$ be a discrete random variable with possible values $X_1 ,X_2 ,\\ldotp \\ldotp \\ldotp$ The probability mass function (pmf), or distribution of a random variable tells us the probabilities of these possible values: <br>\n",
    "$p_X \\left(x_i \\right)=P\\left\\lbrace X=x_i \\right\\rbrace$\n",
    "For any discrete random variable $X$ <br>\n",
    "$p\\left(X_i \\right)\\ge 0,$ and $\\sum_i p\\left(X_i \\right)=1$\n",
    "\n",
    "\n"
   ]
  },
  {
   "cell_type": "markdown",
   "metadata": {},
   "source": [
    "## Expectation\n",
    "- The expection, or mean, or expected value of a discrete random variable $X$ is defined as<br>\n",
    "$EX=\\sum_i X_i \\cdot p\\left(X_i \\right)$, provided that this sum exists\n",
    "- Expected value is not necessarily a possible value\n",
    "- Expected value can be infinity \n",
    "- Expected value many not exist \n",
    "- $E\\left(\\mathrm{aX}+b\\right)=a\\cdot \\mathrm{EX}+b$<br>\n",
    "    - proof:<br>\n",
    "        $E\\left(\\mathrm{aX}+b\\right)=\\sum_i \\left(\\mathrm{aX}+b\\right)\\cdot p\\left(i\\right)=a\\sum_i X\\cdot p\\left(i\\right)+b\\sum_i p\\left(i\\right)=a\\cdot \\mathrm{EX}+b$\n",
    "- ${\\mathrm{EX}}^n =E\\left(X^n \\right)\\not= {\\left(\\mathrm{EX}\\right)}^n$"
   ]
  },
  {
   "cell_type": "markdown",
   "metadata": {},
   "source": [
    "## Variance\n",
    "The variance and the standard deviation of a random variable are defined as $\\mathrm{VarX}:={E\\left(X-\\mathrm{EX}\\right)}^2$ and $\\mathrm{SDX}:=\\sqrt{\\;\\mathrm{VarX}}$"
   ]
  },
  {
   "cell_type": "markdown",
   "metadata": {},
   "source": [
    "### Properties of the Variance\n",
    "- $\\mathrm{VarX}={\\mathrm{EX}}^2 -{\\left(\\mathrm{EX}\\right)}^2$\n",
    "    - proof :<br>\n",
    "    $\\begin{array}{l}\n",
    "    \\mathrm{VarX}:={E\\left(X-\\mathrm{EX}\\right)}^2 =E\\left(\\left(X^2 -2\\cdot X\\cdot \\mathrm{EX}+{\\left(\\mathrm{EX}\\right)}^2 \\right)\\right)\\\\\n",
    "    =E\\left(X^2 \\right)-E\\left(2\\cdot X\\cdot \\mathrm{EX}\\right)+{E\\left({\\left(\\mathrm{EX}\\right)}^2 \\right)}^{\\;} =E\\left(X^2 \\right)-2\\cdot \\mathrm{EX}\\cdot \\mathrm{EX}+{\\left(\\mathrm{EX}\\right)}^2 ={E\\left({\\mathrm{X}}^2 \\right)}^{\\;} -{\\left(\\mathrm{EX}\\right)}^2 \n",
    "    \\end{array}$<br>\n",
    "    Here $EX$ is a constant so can come out of $E\\left(2\\cdot X\\cdot \\mathrm{EX}\\right)$ and it becomes $2\\cdot \\mathrm{EX}\\cdot \\mathrm{EX}$ also expectation has no effect on  ${E\\left({\\left(\\mathrm{EX}\\right)}^2 \\right)}^{\\;}$ for the same reason so it becomes ${\\left(\\mathrm{EX}\\right)}^2$\n",
    "    -   corollary:  for any $X,{\\mathrm{EX}}^2 \\ge {\\left(\\mathrm{EX}\\right)}^2$  here  equality  hold only if $X=$constant a.s.  (almost always means probability one) \n",
    "- $\\mathrm{Var}\\left(\\mathrm{aX}+b\\right)=a^2 \\cdot \\mathrm{VarX}$\n",
    "    - proof<br>\n",
    "    $\\begin{array}{l}\n",
    "    \\mathrm{Var}\\left(\\mathrm{aX}+b\\right)={E\\left(\\mathrm{aX}+b\\right)}^2 -{\\left(E\\left(\\mathrm{aX}+b\\right)\\right)}^2 \\\\\n",
    "    =E\\left(a^2 X^2 +2\\mathrm{abX}+b^2 \\right)-{\\left(\\mathrm{aEX}+b\\right)}^2 \\\\\n",
    "    =a^2 {\\cdot \\mathrm{EX}}^2 +2\\mathrm{ab}\\cdot \\mathrm{EX}+b^2 -a^2 \\cdot {\\left(\\mathrm{EX}\\right)}^2 -2\\mathrm{ab}\\cdot \\mathrm{EX}-b^2 \\\\\n",
    "    =a^2 \\left({\\mathrm{EX}}^2 -{\\left(\\mathrm{EX}\\right)}^2 \\right)=a^2 \\mathrm{VarX}\n",
    "    \\end{array}$\n",
    "- $\\mathrm{Var}\\left(X+b\\right)=\\mathrm{VarX}=\\mathrm{Var}\\left(-X\\right)$"
   ]
  },
  {
   "cell_type": "markdown",
   "metadata": {},
   "source": [
    "## Bernoulli, Binomial\n",
    "Suppose that $n$ independent trails are performed, each succeeding with probability $p$. Let $X$ count the number of success within the $n$ trails. Then $X$ has the Binomial distribution with parameters  $n$ and $p$ of, in short $X~\\mathrm{Binom}\\left(n,p\\right)$"
   ]
  },
  {
   "cell_type": "markdown",
   "metadata": {},
   "source": [
    "## Mass Function\n",
    "$p\\left(i\\right)=P\\left\\lbrace X=i\\right\\rbrace ={\\left({{n}\\atop{k}}\\right)}p^i {\\left(1-p\\right)}^{n-i} ,\\;\\;\\;\\;i=0,1,\\ldotp \\ldotp \\ldotp \\ldotp ,n$<br>\n",
    "$\\mathrm{EX}=\\mathrm{np},$, and $\\mathrm{VarX}=\\mathrm{np}\\left(1-p\\right)$\n",
    "\n",
    "## Done"
   ]
  }
 ],
 "metadata": {
  "kernelspec": {
   "display_name": "Python 3.7.8 64-bit",
   "language": "python",
   "name": "python3"
  },
  "language_info": {
   "name": "python",
   "version": "3.7.8"
  },
  "orig_nbformat": 4,
  "vscode": {
   "interpreter": {
    "hash": "0a54084e6b208ee8d1ce3989ffc20924477a5f55f5a43e22e699a6741623861e"
   }
  }
 },
 "nbformat": 4,
 "nbformat_minor": 2
}
