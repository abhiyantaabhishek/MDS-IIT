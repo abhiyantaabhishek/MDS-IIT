{
 "cells": [
  {
   "cell_type": "markdown",
   "metadata": {},
   "source": [
    "# Discrete Random variable\n",
    "> Discrete Random variable for Data Science\n",
    "\n",
    "- toc: true \n",
    "- badges: false\n",
    "- comments: true\n",
    "- categories: [Probability]\n",
    "- author: Abhishek Kumar Dubey\n",
    "- image: images/2022-08-06-CS6660-week1-preview.jpg"
   ]
  },
  {
   "cell_type": "markdown",
   "metadata": {},
   "source": [
    "A random variable is a function from a sample space $\\Omega$ to the real numbers $\\mathbb{R}$<br>\n",
    "A random variable $X$ that can take on finitely or countably  infinitely many possible values is called discrete."
   ]
  },
  {
   "cell_type": "markdown",
   "metadata": {},
   "source": [
    "## Indicator random variable\n",
    "$X=\\left\\lbrace \\begin{array}{ll}\n",
    "1, & \\mathrm{if}\\;\\mathrm{event}\\;E\\;\\mathrm{occurs}\\\\\n",
    "0, & \\mathrm{if}\\;\\mathrm{event}\\;E^c \\;\\mathrm{occurs}\n",
    "\\end{array}\\right.$<br>\n",
    "$\\mathrm{EX}=0\\cdot p\\left(0\\right)+1\\cdot p\\left(1\\right)=P\\left\\lbrace E\\right\\rbrace$<br>\n",
    "$\\mathrm{VarX}={\\mathrm{EX}}^2 -{\\left(\\mathrm{EX}\\right)}^2 =\\left(1^2 \\cdot P\\left\\lbrace E\\right\\rbrace +0^2 \\cdot P\\left\\lbrace E^c \\right\\rbrace \\right)-{\\left(P\\left\\lbrace E\\right\\rbrace \\right)}^2 =P\\left\\lbrace E\\right\\rbrace \\cdot \\left(1-P\\left\\lbrace E\\right\\rbrace \\right)$<br>\n",
    "$\\mathrm{SD}\\;X=\\sqrt{P\\left\\lbrace E\\right\\rbrace \\cdot \\left(1-P\\left\\lbrace E\\right\\rbrace \\right)}$<br>\n"
   ]
  },
  {
   "cell_type": "markdown",
   "metadata": {},
   "source": [
    "## Mass function\n",
    "Let $X$ be a discrete random variable with possible values $X_1 ,X_2 ,\\ldotp \\ldotp \\ldotp$ The probability mass function (pmf), or distribution of a random variable tells us the probabilities of these possible values: <br>\n",
    "$p_X \\left(x_i \\right)=P\\left\\lbrace X=x_i \\right\\rbrace$\n",
    "For any discrete random variable $X$ <br>\n",
    "$p\\left(X_i \\right)\\ge 0,$ and $\\sum_i p\\left(X_i \\right)=1$\n",
    "\n",
    "\n"
   ]
  },
  {
   "cell_type": "markdown",
   "metadata": {},
   "source": [
    "## Expectation\n",
    "- The expection, or mean, or expected value of a discrete random variable $X$ is defined as<br>\n",
    "$EX=\\sum_i X_i \\cdot p\\left(X_i \\right)$, provided that this sum exists\n",
    "- Expected value is not necessarily a possible value\n",
    "- Expected value can be infinity \n",
    "- Expected value many not exist \n",
    "- $E\\left(\\mathrm{aX}+b\\right)=a\\cdot \\mathrm{EX}+b$<br>\n",
    "    - proof:<br>\n",
    "        $E\\left(\\mathrm{aX}+b\\right)=\\sum_i \\left(\\mathrm{aX}+b\\right)\\cdot p\\left(i\\right)=a\\sum_i X\\cdot p\\left(i\\right)+b\\sum_i p\\left(i\\right)=a\\cdot \\mathrm{EX}+b$\n",
    "- ${\\mathrm{EX}}^n =E\\left(X^n \\right)\\not= {\\left(\\mathrm{EX}\\right)}^n$"
   ]
  },
  {
   "cell_type": "markdown",
   "metadata": {},
   "source": [
    "## Variance\n",
    "The variance and the standard deviation of a random variable are defined as $\\mathrm{VarX}:={E\\left(X-\\mathrm{EX}\\right)}^2$ and $\\mathrm{SDX}:=\\sqrt{\\;\\mathrm{VarX}}$"
   ]
  }
 ],
 "metadata": {
  "kernelspec": {
   "display_name": "Python 3.7.8 64-bit",
   "language": "python",
   "name": "python3"
  },
  "language_info": {
   "name": "python",
   "version": "3.7.8"
  },
  "orig_nbformat": 4,
  "vscode": {
   "interpreter": {
    "hash": "0a54084e6b208ee8d1ce3989ffc20924477a5f55f5a43e22e699a6741623861e"
   }
  }
 },
 "nbformat": 4,
 "nbformat_minor": 2
}
