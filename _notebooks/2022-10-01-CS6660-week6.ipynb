{
 "cells": [
  {
   "cell_type": "markdown",
   "metadata": {},
   "source": [
    "# Linear Algebra CS6660 week 6\n",
    "> Mathematical Foundations of Data Science CS6660 week 6\n",
    "\n",
    "- toc: true \n",
    "- badges: false\n",
    "- comments: true\n",
    "- categories: [Mathematical Foundations of Data Science]\n",
    "- author: Abhishek Kumar Dubey\n",
    "<!-- - image: images/CS6660_images/Acrobat_DdKtM5v6Sg.png -->"
   ]
  },
  {
   "cell_type": "markdown",
   "metadata": {},
   "source": [
    "# Linear Independence"
   ]
  },
  {
   "cell_type": "markdown",
   "metadata": {},
   "source": [
    "- How to find if vectors are linearly independent\n",
    "    - write all the vectors as a column of the the matrix.\n",
    "    - Perform Gaussian elimination until the matrix is in row echelon form\n",
    "    - The reduced row echelon form is not necessary here.\n",
    "    - The pivot columns indicate the vectors, which are linearly independent of the vectors on the left, Note that there is an ordering of vectors when the matrix is built.\n",
    "    - The non pivot columns can be expressed as linear combinations of the pivot columns on their left."
   ]
  },
  {
   "cell_type": "markdown",
   "metadata": {},
   "source": [
    "- If we have a matrix $B$ of all independent column vectors $b_i$,  and we multiply it with with $j$ __independent column vectors__ $\\lambda_j, \\;\\;j=1,\\dots ,j$ then we get new set of __independent columns vectors__ $x_j, \\;\\;j=1, \\dots ,j$ "
   ]
  },
  {
   "cell_type": "markdown",
   "metadata": {},
   "source": [
    "- Example <br>\n",
    " consider a set of linearly independent vectors $b_1,b_2,b_3,b_4 \\in \\mathbb{R}^n$<br>\n",
    " $ \\begin{array}{l l l l l l}\n",
    " x_1 & = &  +b_1 & -2b_2 & + b_3 &  -b_4 \\\\\n",
    " x_2 & = & -4b_1 & -2b_2 &     &   +4b_4 \\\\\n",
    " x_3 & = & +2b_1 &  +3b_2 & - b_3 & -3b_4 \\\\\n",
    " x_4 & = & +17b_1 &-102b_2 & + 11b_3 &+b_4 \\\\\n",
    " \\end{array}\n",
    " $<br>\n",
    " Are vectors $x_1, \\dots , x_4 \\in \\mathbb{R}^n$ linearly independent? <br><br>\n",
    " As the matrix $B$ has all independent vectors,  $x_1, \\dots , x_4$ will be independent if the vectors formed by coefficients of equation are independent, so we create the coefficient matrix $A$ and perform the gaussian elimination, if we find no non-pivot column we can say  $x_1, \\dots , x_4$ are independent.<br><br>\n",
    " $\\left\\{  \\left[ \\begin{array}{r}1\\\\-2\\\\1\\\\-1\\end{array}\\right],\n",
    " \\left[ \\begin{array}{r}4\\\\-2\\\\0\\\\4\\end{array}\\right],\n",
    " \\left[ \\begin{array}{r}2\\\\3\\\\-1\\\\-3\\end{array}\\right],\n",
    " \\left[ \\begin{array}{r}17\\\\-10\\\\11\\\\1\\end{array}\\right] \\right\\}$<br><br>\n",
    " $A =  \\left[ \\begin{array}{r r r r }\n",
    "    1 & 4 & 2 & 17 \\\\\n",
    "    -2 & -2 & 3 & -10 \\\\\n",
    "    1 & 0 & -1 & 11  \\\\\n",
    "    -1 & 4 & -3 & 1\n",
    "  \\end{array}\\right]\n",
    "  $<br><br>\n",
    "After performing gaussian elimination we get row echelon form <br><br>\n",
    " $A =  \\left[ \\begin{array}{r r r r }\n",
    "    1 & 0 & 0 & -7 \\\\\n",
    "    0 & 1 & 0 & -15 \\\\\n",
    "    0 & 0 & 1 & -18  \\\\\n",
    "    0 & 0 & 0 & 0\n",
    "  \\end{array}\\right]\n",
    "  $<br><br>\n",
    "  Here we got last column as non pivot column, hence we can say that $x_1, \\dots , x_4$ are not linearly  independent. \n"
   ]
  },
  {
   "cell_type": "markdown",
   "metadata": {},
   "source": [
    "# Generating Set and Basis"
   ]
  },
  {
   "cell_type": "markdown",
   "metadata": {},
   "source": [
    "- Definition (Generating Set and Span): Consider a vector space $V = (V,+,\\cdot )$ and a set of vectors $A =\\{ x_1, \\dots , x_k\\}$, If every vector $v \\in V$ can be expressed as a linear combination of $ x_1, \\dots , x_k,$ $A$ is called a __generating set__ of $V$ . The set of all linear combinations of vectors in $A$ is called the span of $A$. If $A$ spans the vector space $V,$ we write $V = \\text{span}[A]$ or   $V = \\text{span}[ x_1, \\dots , x_k]$\n",
    "- Definition (Basis): Consider  a vector space $V = (V,+,\\cdot )$ and $A \\subseteq V $. A generating set $A$ of $V$ is called minimal if there exists no smaller set $A \\subsetneq A \\subseteq V$ that spans $V$. Every linearly independent generating set of $V$ is minimal and is called a basis of $V$.\n",
    "- Basis need not be orthogonal,also there can be multiple basis of a given vector space.<br>\n",
    "- Let  $V = (V,+,\\cdot )$ be a vector space and $B \\subseteq V, B \\ne \\phi$, Then the following statements are equivalent:\n",
    "    - $B$ is a basis of $V$.\n",
    "    - $B$ is a minimal generating set.\n",
    "    - $B$ is a maximal linearly independent set of vectors in $V$, i.e., adding any other vector to this set will make it linearly dependent.\n",
    "    - Every vector $x \\in V$ si a linear combination of vectors from $B$, and every linear combination is unique.\n",
    "- Every vector space $V$ possesses a basis $B$. There can be many bases of a vector space $V$, i.e. there is no unique basis.\n"
   ]
  },
  {
   "cell_type": "markdown",
   "metadata": {},
   "source": [
    "# Basis and Dimension"
   ]
  },
  {
   "cell_type": "markdown",
   "metadata": {},
   "source": [
    "- Any vector space $V$ has a basis.\n",
    "- All bases for $V$ are of the same cardinality.\n",
    "- A set of m vectors from $\\mathbb{R}^n$, with $m<n$ can not span $\\mathbb{R}^n$, and hence can not be a basis for $\\mathbb{R}^n$.\n",
    "- A set of m vectors from $\\mathbb{R}^n$, with $m>n$ is not linearly independent set,  and hence can not be a basis for $\\mathbb{R}^n$.\n",
    "- Every basis of the vector space $\\mathbb{R}^n$ consists of $n$ vectors.\n",
    "- The dimension of a vector space $V$, denoted $\\text{dim}V$, is the cardinality of its bases."
   ]
  },
  {
   "cell_type": "markdown",
   "metadata": {},
   "source": [
    "## How to find Basis"
   ]
  },
  {
   "cell_type": "markdown",
   "metadata": {},
   "source": [
    "- A basis of a subspace $U =  \\text{span}[x_1, \\dots , x_m] \\subseteq \\mathbb{R}^n$ can be found by executing the following steps:\n",
    "    - Write the spanning vectors as columns of a matrix $A$\n",
    "    - Determine the row echelon form of $A$.\n",
    "    - The spanning vectors associated with the pivot columns are basis of $U$.\n",
    "- Remarks : The dimension of a vector space is not necessarily the number of elements in a vector, For instance, the vector space $V = \\text{span}\\left[ \\begin{array}{c} 0\\\\1 \\end{array}\\right]$ is one dimensional, although the basis vector possesses two elements.\n"
   ]
  },
  {
   "cell_type": "markdown",
   "metadata": {},
   "source": [
    "# Null space, Row Space, Column Space"
   ]
  },
  {
   "cell_type": "markdown",
   "metadata": {},
   "source": [
    "- Let $A$ be an $m \\times n $ matrix.\n",
    "    - The subspace of $\\mathbb{R}^n$ spanned by the row vectors of $A$ is called the row space of $A$.\n",
    "    - The subspace of $\\mathbb{R}^n$ spanned by column vectors of $A$ is called the column space of $A$\n",
    "        - Recall: Determine whether $Ax=b$ has a solution thus amounts to testing whether $b$ is in the span of the columns of $A$ ( called the column space of $A$)\n",
    "    - The Null space of $A$ denoted $\\text{Null} \\;A$ is the set of all solutions to homogenous equation $Ax=0$, written in set notation, we have $\\text{Null} \\;A = \\{ x:x \\in \\mathbb{R}^n \\text{ and } Ax=0\\}$  \n"
   ]
  },
  {
   "cell_type": "markdown",
   "metadata": {},
   "source": [
    "# Rank"
   ]
  },
  {
   "cell_type": "markdown",
   "metadata": {},
   "source": [
    "- Th rank of a matrix is size of the largest subset of columns of $A$ that constitute linearly independent set.\n",
    "- Often referred to as simply the number of linearly independent columns of $A$\n",
    "- Note that rank($A$) = rank($A^T$). This means that column rank = row rank.\n",
    "- For $A \\in \\mathbb{R}^{m\\times n},$ rank $(A) \\le\\min(m,n)$. If rank $(A)=\\min(m,n)$, then $A$ is said to be full rank.\n",
    "- The column of $A  \\in \\mathbb{R}^{m\\times n}$  span a subspace $U \\subseteq  \\mathbb{R}^m$ with $\\text{dim}(U)=rk(A)$. Later we will call this subspace the image or range. A basis of $U$ can be found by applying gaussian elimination to $A$ to identify the pivot columns.\n",
    "- The row of  $A  \\in \\mathbb{R}^{m\\times n}$  span a subspace $W \\subseteq  \\mathbb{R}^n$ with $\\text{dim}(W)=rk(A)$. A bais of $W$ can be found by applying gaussian elimination to $A$.\n",
    "- For all  $A  \\in \\mathbb{R}^{m\\times n}$  it holds that $A$ is regular (invertible) if and only if $rk(A)=n.$"
   ]
  }
 ],
 "metadata": {
  "kernelspec": {
   "display_name": "Python 3.9.12 ('base')",
   "language": "python",
   "name": "python3"
  },
  "language_info": {
   "name": "python",
   "version": "3.9.12"
  },
  "orig_nbformat": 4,
  "vscode": {
   "interpreter": {
    "hash": "b92a85dd111e7f234cbdfd9e3dc75ce12717f6161daa18a82d26f0e8e840c205"
   }
  }
 },
 "nbformat": 4,
 "nbformat_minor": 2
}
