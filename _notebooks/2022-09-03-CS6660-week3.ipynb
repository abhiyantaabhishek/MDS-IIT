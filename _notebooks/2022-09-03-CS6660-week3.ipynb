{
 "cells": [
  {
   "cell_type": "markdown",
   "metadata": {},
   "source": [
    "# Linear Algebra CS6660 week 3\n",
    "> Mathematical Foundations of Data Science CS6660 week 3\n",
    "\n",
    "- toc: true \n",
    "- badges: false\n",
    "- comments: true\n",
    "- categories: [Mathematical Foundations of Data Science]\n",
    "- author: Abhishek Kumar Dubey\n",
    "- image: images/CS6660_images/Acrobat_DdKtM5v6Sg.png"
   ]
  },
  {
   "cell_type": "markdown",
   "metadata": {},
   "source": [
    "# system  of Linear equations"
   ]
  },
  {
   "cell_type": "markdown",
   "metadata": {},
   "source": [
    "- Let us see some Systems of linear equations<br>\n",
    "    - A company produce products $ N_1, \\dots ,N_n $ for which resources $R_1, \\dots ,R_m$ are required. To produce a unit of porduct $N_j, a_{ij}$ units of resources $R_i$ are needed, where $i=1,\\dots ,m$ and $j=1, \\dots ,n$. <br>\n",
    "    The objective is to find an optimal production plan, i.e., a plan of how many units $x_j$ of product $N_j$ should be produced if a total of $b_i$ units of resource $R_i$ are available and (ideally) no resources are left over.<br>\n",
    "    write system of equation of the same \n",
    "    $$\\left\\lbrace \\begin{array}{c}\n",
    "    a_{11}x_1 + \\dots +a_{1n}x_n =b_1\\\\\n",
    "    \\vdots \\\\\n",
    "    a_{m1}x_1+\\dots +a_{mn}x_n=b_n \n",
    "    \\end{array}\\right.$$ \n",
    "    - John received an inheritance  of $\\$12000$ that he divided in three parts and invested in three ways: in a money market fund paying $3\\%$ annual interest; in municipal bonds paying $4\\%$ of annual interest; and in mutual fund paying $7\\%$ of interest, john invested $\\$4,000$ more in mutual funds than in municipal bonds. He earned $\\$670$ in interest the first year.How much did john invest in each type of  found\n",
    "    $$\\left\\lbrace \\begin{array}{c}\n",
    "    x+y+z=12000\\\\\n",
    "    0.03x+0.04y+0.07z=670 \\\\\n",
    "    -x+z=4000 \n",
    "    \\end{array}\\right.\\\\ \n",
    "     $$\n",
    "    - solution of above question: $x=3500,y=1000,z=7500$\n",
    "    "
   ]
  },
  {
   "cell_type": "markdown",
   "metadata": {},
   "source": [
    "![](../images/CS6660_images/chrome_eVuQqkmGsE.png)"
   ]
  },
  {
   "cell_type": "markdown",
   "metadata": {},
   "source": [
    "-  If there are more variables than equations than there __might be__ infinitely many solutions.\n",
    "- If $AX=b$ has infinitely many solutions then to find other solutions we find $Y$ such that $AY=b$, then we can write $A(X+Y)=b$ as $A(X+Y)=AX+AY=AX$ because $AY=0$ here, $X+Y$ is another solution here.<br>\n",
    "  If $AX=b$ and $AY=0$ then $A(X+Y)=b$\n"
   ]
  },
  {
   "cell_type": "markdown",
   "metadata": {},
   "source": [
    "- Particular and general solutions \n",
    "    - $1$. Find a particular solution to $AX=b$ \n",
    "    - $2$. Find all the solutions to $AX=0$\n",
    "    - $3$. Combine the solution from step $1$ and $2$ to get the general solution"
   ]
  },
  {
   "cell_type": "markdown",
   "metadata": {},
   "source": [
    "- For Example, consider  <br><br>\n",
    "${\\left[\\begin{array}{l l l}{1}&{0}&{8}&{-4}\\\\ {0}&{1}&{2}&{12}\\end{array}\\right]} {\\left[\\begin{array}{l}{x_1}\\\\ {x_2}\\end{array}\\right]}={\\left[\\begin{array}{l}{42}\\\\ {8}\\end{array}\\right]}$<br><br>\n",
    "solution for $AX=b$ (particular solution) <br><br>\n",
    "${\\left[\\begin{array}{l l l}{1}&{0}&{8}&{-4}\\\\ {0}&{1}&{2}&{12}\\end{array}\\right]} {\\left[\\begin{array}{l}{x_1}\\\\ {x_2}\\end{array}\\right]}={\\left[\\begin{array}{l}{48}\\\\ {8}\\end{array}\\right]}$<br><br>\n",
    "is given by <br><br>\n",
    "$ {\\left[\\begin{array}{l}{x_1}\\\\ {x_2}\\end{array}\\right]}={\\left[\\begin{array}{l}{42}\\\\ {8}\\end{array}\\right]}$<br><br>\n",
    "Now we find solution for  $AX=0$  (general solution )<br><br>\n",
    "${\\left[\\begin{array}{l l l}{1}&{0}&{8}&{-4}\\\\ {0}&{1}&{2}&{12}\\end{array}\\right]} {\\left[\\begin{array}{l}{x_1}\\\\ {x_2}\\end{array}\\right]}={\\left[\\begin{array}{l}{0}\\\\ {0}\\end{array}\\right]}$<br><br>\n",
    "We can find that there are two vectors which satisfy it <br><br>\n",
    "$ {\\left[\\begin{array}{l}{x_1}\\\\ {x_2}\\\\ {x_3}\\\\ {x_4} \\end{array}\\right]}={\\left[\\begin{array}{l}{8}\\\\ {2}\\\\ {-1}\\\\ {0}\\end{array}\\right]}$<br><br>\n",
    "$ {\\left[\\begin{array}{l}{x_1}\\\\ {x_2}\\\\ {x_3}\\\\ {x_4} \\end{array}\\right]}={\\left[\\begin{array}{l}{-4}\\\\ {12}\\\\ {0}\\\\ {-1}\\end{array}\\right]}$<br><br>\n",
    "We can represent the final solution by combining particular and general solution<br><br>\n",
    "$\\left\\{x\\in\\mathbb{R}^{4}:x= {\\left[\\begin{array}{l}{42}\\\\ {8}\\\\ {0}\\\\ {0} \\end{array}\\right]}    + \\lambda_{1}{\\left[\\begin{array}{l}{8}\\\\ {2}\\\\ {-1}\\\\ {0} \\end{array}\\right]}   + \\lambda_{2}{\\left[\\begin{array}{l}{-4}\\\\ {12}\\\\ {0}\\\\ {-1} \\end{array}\\right]},\\lambda_{1},\\lambda_{2}\\in\\mathbb{R}\\right\\}$"
   ]
  }
 ],
 "metadata": {
  "kernelspec": {
   "display_name": "Python 3.9.12 ('base')",
   "language": "python",
   "name": "python3"
  },
  "language_info": {
   "codemirror_mode": {
    "name": "ipython",
    "version": 3
   },
   "file_extension": ".py",
   "mimetype": "text/x-python",
   "name": "python",
   "nbconvert_exporter": "python",
   "pygments_lexer": "ipython3",
   "version": "3.9.12"
  },
  "orig_nbformat": 4,
  "vscode": {
   "interpreter": {
    "hash": "b92a85dd111e7f234cbdfd9e3dc75ce12717f6161daa18a82d26f0e8e840c205"
   }
  }
 },
 "nbformat": 4,
 "nbformat_minor": 2
}
