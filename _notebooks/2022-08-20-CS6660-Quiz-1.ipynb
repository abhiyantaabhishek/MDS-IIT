{
 "cells": [
  {
   "cell_type": "markdown",
   "metadata": {},
   "source": [
    "# Probability CS6660 Quiz 1 \n",
    "> Mathematical Foundations of Data Science CS6660 Quiz 1\n",
    "\n",
    "- toc: true \n",
    "- badges: false\n",
    "- comments: true\n",
    "- categories: [Quizzes and assignments - Mathematical Foundations of Data Science]\n",
    "- author: Abhishek Kumar Dubey\n"
   ]
  },
  {
   "cell_type": "markdown",
   "metadata": {},
   "source": [
    "# Question 1\n",
    "Suppose X is a random variable that takes values from the set {0, 1}. If $E(X) = 0.3$, then what is $E(X^2)$?"
   ]
  },
  {
   "cell_type": "markdown",
   "metadata": {},
   "source": [
    "> Answer:<br>\n",
    "we know for  Indicator random variable <br>\n",
    "$E\\left(X\\right)=0\\cdot p\\left(0\\right)+1\\cdot p\\left(1\\right)$<br>\n",
    "so substituting values we get :<br>\n",
    "$0\\ldotp 3=1\\ldotp p\\left(1\\right)$<br>\n",
    "$\\Rightarrow p\\left(1\\right)=0\\ldotp 3\\;,p\\left(0\\right)=0\\ldotp 7$<br>\n",
    "Now:<br>\n",
    "$E\\left(X^2 \\right)=0^2 \\cdot p\\left(0\\right)+1^2 \\cdot p\\left(1\\right)$<br>\n",
    "$\\Rightarrow E\\left(X^2 \\right)=1\\cdot p\\left(1\\right)=0\\ldotp 3$<br>"
   ]
  },
  {
   "cell_type": "markdown",
   "metadata": {},
   "source": [
    "# Question 2\n",
    "Suppose $A$ and $B$ are two mutually exclusive events with $P(A) = 0.3$ and $P(B) = 0.4$. Then $P(A|B) =?$ and $P(A|B^C) =?$\n",
    "> Answer:<br>\n",
    "$p\\left(A|B\\right)=\\frac{p\\left(A\\cap B\\right)}{p\\left(B\\right)}$<br>\n",
    "$p\\left(A\\cap B\\right)=0$, mutually exclusive <br>\n",
    "$\\Rightarrow p\\left(A|B\\right)=0$<br>\n",
    "Now:<br>\n",
    "$p\\left(A|B^c \\right)=\\frac{p\\left(A\\cap B^c \\right)}{p\\left(B^c \\right)}$<br>\n",
    "$\\Rightarrow p\\left(A|B^c \\right)=\\frac{p\\left(A\\right)-p\\left(A\\cap \\;B\\right)}{p\\left(B^c \\right)}$<br>\n",
    "$\\Rightarrow p\\left(A|B^c \\right)=\\frac{0\\ldotp 3-0}{1-0\\ldotp 4}=0\\ldotp 5$<br>"
   ]
  },
  {
   "cell_type": "markdown",
   "metadata": {},
   "source": [
    "# Question 3\n",
    "Suppose $X$ and $Y$ are random variables such that $E(X) = 10, Var(X) = 50, E(Y) = 5,$ and $Var(Y) = 40.$ Then what is $E(2X+Y)?$ "
   ]
  },
  {
   "cell_type": "markdown",
   "metadata": {},
   "source": [
    "> Answer:<br>\n",
    "$E\\left(2X+Y\\right)=E\\left(2X\\right)+E\\left(Y\\right)=2E\\left(X\\right)+E\\left(Y\\right)$<br>\n",
    "$\\Rightarrow 2\\times 10+5=25$<br>\n"
   ]
  },
  {
   "cell_type": "markdown",
   "metadata": {},
   "source": [
    "# Question 4\n",
    "Suppose $A$ and $B$ are events such that $P(A) = 0.3, P(B) = 0.2$ and $P(A \\cap B) = 0.1$. Then what is $P(A^c \\cap B^C)$?"
   ]
  },
  {
   "cell_type": "markdown",
   "metadata": {},
   "source": [
    "> Answer:<br>\n",
    "$P\\left(A^c \\cap B^c \\right)={P\\left(A\\cup \\;B\\right)}^c$<br>\n",
    "$P\\left(A\\cup B\\right)=P\\left(A\\right)+P\\left(B\\right)-P\\left(A\\cap B\\right)$<br>\n",
    "$\\Rightarrow P\\left(A\\cup B\\right)=0\\ldotp 3+0\\ldotp 2-0\\ldotp 1$<br>\n",
    "$\\Rightarrow P\\left(A\\cup B\\right)=0\\ldotp 4$<br>\n",
    "${P\\left(A\\cup B\\right)}^c =1-P\\left(A\\cup B\\right)=1-0\\ldotp 4=0\\ldotp 6$<br>"
   ]
  },
  {
   "cell_type": "markdown",
   "metadata": {},
   "source": [
    "# Question 5\n",
    "Suppose $A$ and $B$ are independent events such that $P(A) = 0.2$ and $P(B) = 0.5$. Then what is $P(A \\cup B)$?"
   ]
  },
  {
   "cell_type": "markdown",
   "metadata": {},
   "source": [
    "> Answer:<br>\n",
    "$P\\left(A\\cup B\\right)=P\\left(A\\right)+P\\left(B\\right)-P\\left(A\\cap B\\right)$<br>\n",
    "$P\\left(A\\cap \\;B\\right)=P\\left(A\\right)\\cdot P\\left(B\\right)$, Because $A$ and $B$ are independent here.<br>\n",
    "Hence,<br>\n",
    "$P\\left(A\\cup B\\right)=P\\left(A\\right)+P\\left(B\\right)-P\\left(A\\right)\\cdot P\\left(B\\right)$<br>\n",
    "$\\Rightarrow P\\left(A\\cup B\\right)=0\\ldotp 2+0\\ldotp 5-0\\ldotp 2*0\\ldotp 5=0\\ldotp 6$<br>"
   ]
  },
  {
   "cell_type": "markdown",
   "metadata": {},
   "source": [
    "# Question 6\n",
    "Suppose $X$ is a random variable such that $E(X) = 10$ and $E(X^2) = 150$. What is the variance of $X$?"
   ]
  },
  {
   "cell_type": "markdown",
   "metadata": {},
   "source": [
    "> Answer:<br>\n",
    "$\\mathrm{Var}\\left(X\\right)=E\\left(X^2 \\right)-{\\left(E\\left(X\\right)\\right)}^2$<br>\n",
    "$\\Rightarrow \\mathrm{Var}\\left(X\\right)=150-{10}^2 =50$"
   ]
  },
  {
   "cell_type": "markdown",
   "metadata": {},
   "source": [
    "# Question 7\n",
    "Suppose $A$ and $B$ are events such that $P(A) = 0.8, P(B) = 0.6,$ and $P(A^c \\cap B^c) = 0.2.$ Then which of the following is true?\n",
    "- Neither A nor B is contained in the other\n",
    "- A and B are mutually exclusive\n",
    "- None of the choices can be inferred\n",
    "- A is a subset of B\n",
    "- B is a subset of A\n"
   ]
  },
  {
   "cell_type": "markdown",
   "metadata": {},
   "source": [
    "> Answer:<br>\n",
    "$P\\left(A^c \\cap B^c \\right)={P\\left(A\\cup B\\right)}^c$<br>\n",
    "$P\\left(A\\cup B\\right)=1-{P\\left(A\\cup B\\right)}^c =1-0\\ldotp 2=0\\ldotp 8$<br>\n",
    "$P\\left(A\\cup B\\right)=P\\left(A\\right)+P\\left(B\\right)+P\\left(A\\cap B\\right)$<br>\n",
    "$\\Rightarrow 0\\ldotp 8=0\\ldotp 8+0\\ldotp 6+P\\left(A\\cap B\\right)$<br>\n",
    "$\\Rightarrow P\\left(A\\cap B\\right)=0\\ldotp 6$<br>\n",
    "Notice:<br>\n",
    "$P\\left(A\\right)=0\\ldotp 8,P\\left(B\\right)=0\\ldotp 6\\;,P\\left(A\\cap B\\right)=0\\ldotp 6$<br>\n",
    "Hence B is subset of A<br>"
   ]
  },
  {
   "cell_type": "markdown",
   "metadata": {},
   "source": [
    "# Question 8\n",
    "Suppose you roll two fair dice and look at the sum of the two results. The probability of getting a value of at least (greater than or equal to) 10 is ?"
   ]
  },
  {
   "cell_type": "markdown",
   "metadata": {},
   "source": [
    "> Answer:<br>\n",
    "The sum value of 10, 11 and 12 qualifies for at least greater than or equal to 10<br>\n",
    "so the events are ${(6,4),(5,5),(4,6),(6,5),(5.6),(6,6)}$<br>\n",
    "so the probability is $\\frac{6}{36}=\\frac{1}{6} $<br>"
   ]
  },
  {
   "cell_type": "markdown",
   "metadata": {},
   "source": [
    "# Question 9\n",
    "Let $X$ be a random variable which takes values from $\\left\\lbrace 1,2,3\\right\\rbrace$ with equal probability. What is the variance of $X$?"
   ]
  },
  {
   "cell_type": "markdown",
   "metadata": {},
   "source": [
    "> Answer:<br>\n",
    "$\\mathrm{Var}\\left(X\\right)=E\\left(X^2 \\right)-{\\left(E\\left(X\\right)\\right)}^2$<br>\n",
    "$E\\left(X\\right)=\\frac{1+2+3}{3}=2$<br>\n",
    "$E\\left(X^2 \\right)=\\frac{1^2 +2^2 +3^2 }{3}=\\frac{14}{3}$<br>\n",
    "$\\Rightarrow \\mathrm{Var}\\left(X\\right)=\\frac{14}{3}-4=\\frac{2}{3}$<br>"
   ]
  },
  {
   "cell_type": "markdown",
   "metadata": {},
   "source": [
    "# Question 10\n",
    "Let $X$ be a random variable which takes values from $\\left\\lbrace 10,20,30\\right\\rbrace$ with equal probability. What is the variance of $X$?"
   ]
  },
  {
   "cell_type": "markdown",
   "metadata": {},
   "source": [
    "> Answer:<br>\n",
    "The answer can be calculated as in question 9, but we can notice that the values is scaled by $10$ as compared to question 9, so the variance will be scaled by $10^2$, hence the answer is $\\frac{200}{3}$"
   ]
  },
  {
   "cell_type": "markdown",
   "metadata": {},
   "source": [
    "# Question 11\n",
    "\n",
    "Suppose the probability of a random person of the population having covid is $0.1$. Given that the person has covid, the probability of the person having cough is $0.9$. Given that the person does not have covid, the probability of having cough is $0.01$.<br>\n",
    "Suppose a random person from the population has cough. What is the probability that he/she has covid?\n"
   ]
  },
  {
   "cell_type": "markdown",
   "metadata": {},
   "source": [
    "> Answer:<br>\n",
    "Given:<br>\n",
    "$P\\left(\\mathrm{covid}\\right)=0\\ldotp 1$<br>\n",
    "$p\\left(\\mathrm{cough}|\\mathrm{covid}\\right)=0\\ldotp 9$<br>\n",
    "$p\\left(\\mathrm{cough}|{\\mathrm{covid}}^c \\right)=0\\ldotp 01$<br>\n",
    "Find:<br>\n",
    "$p\\left(\\mathrm{covid}|\\mathrm{cough}\\right)=?$<br>\n",
    "calculate probability of not covid<br>\n",
    "$P\\left({\\mathrm{covid}}^c \\right)=1-P\\left(\\mathrm{covid}\\right)=1-0\\ldotp 1=0\\ldotp 9$<br>\n",
    "Use Bayes theorem <br>\n",
    "$p\\left(\\mathrm{covid}|\\mathrm{cough}\\right)=\\frac{p\\left(\\mathrm{cough}|\\mathrm{covid}\\right)\\times p\\left(\\mathrm{covid}\\right)}{p\\left(\\mathrm{cough}|\\mathrm{covid}\\right)\\times p\\left(\\mathrm{covid}\\right)+p\\left(\\mathrm{cough}|{\\mathrm{covid}}^c \\right)\\times p\\left({\\mathrm{covid}}^c \\right)}$<br>\n",
    "$\\Rightarrow p\\left(\\mathrm{covid}|\\mathrm{cough}\\right)=\\frac{0\\ldotp 9\\times 0\\ldotp 1}{0\\ldotp 9\\times 0\\ldotp 1+0\\ldotp 01\\times 0\\ldotp 9}=\\frac{10}{11}$<br>\n",
    "\n"
   ]
  },
  {
   "cell_type": "markdown",
   "metadata": {},
   "source": [
    "# Question 12\n",
    "Let $A$ be an event, and let $P(A)$ denote the probability of the event $A$. Which of the following options is correct?\n",
    "-  $P(A)$ is at most $1$ but has no lower bound (unbounded)\n",
    "-  $P(A)$ is at least $0$ and at most $1$\n",
    "-  $P(A)$ is at least $0$ but has no upper bound (unbounded)\n",
    "-  $P(A)$ has neither an upper bound nor a lower bound\n",
    "\n",
    "\n",
    "\n",
    "\n"
   ]
  },
  {
   "cell_type": "markdown",
   "metadata": {},
   "source": [
    "> Answer:<br>\n",
    "P(A) is at least 0 and at most 1\n"
   ]
  },
  {
   "cell_type": "markdown",
   "metadata": {},
   "source": [
    "# Question 13\n",
    "Let $A$ and $B$ be two events, such that $P(A) = 1$ and $P(B) > 0$. Which of the following is true?\n",
    "-  A and B are nether independent nor mutually exclusive\n",
    "-  A and B are independent and mutually exclusive\n",
    "-  A and B are mutually exclusive but not independent\n",
    "-  A and B are independent, but not mutually exclusive\n",
    "-  Cannot conclude any of the choices from the information given.\n"
   ]
  },
  {
   "cell_type": "markdown",
   "metadata": {},
   "source": [
    "> Answer:"
   ]
  },
  {
   "cell_type": "markdown",
   "metadata": {},
   "source": [
    "# Question 14\n",
    "Suppose there is a meeting of 5 friends. The probability that a given member of the population is covid positive is 0.1. Which of the following is an upper bound on the probability that at least one in the meeting is covid positive?\n",
    "-  0.05\n",
    "- 0.00001\n",
    "- 0.25\n",
    "- 0.5\n",
    "- 0.3"
   ]
  },
  {
   "cell_type": "markdown",
   "metadata": {},
   "source": [
    "> Answer:<br>\n",
    "$p\\left(\\mathrm{covid}\\right)=0\\ldotp 1$<br>\n",
    "$\\mathrm{At}\\;\\mathrm{least}\\;\\mathrm{one}=\\mathrm{complement}\\;\\mathrm{of}\\;\\mathrm{none}$<br>\n",
    "$p\\left(\\mathrm{at}\\;\\mathrm{least}\\;\\mathrm{one}\\;\\mathrm{covid}\\;\\mathrm{positive}\\right)={p\\left(\\mathrm{none}\\;\\mathrm{covid}\\;\\mathrm{positive}\\right)}^c$<br>\n",
    "$p\\left(\\mathrm{none}\\;\\mathrm{covid}\\;\\mathrm{positive}\\right)=0\\ldotp 9\\times 0\\ldotp 9\\times 0\\ldotp 9\\times 0\\ldotp 9\\times 0\\ldotp 9=0\\ldotp 59$<br>\n",
    "$p\\left(\\mathrm{at}\\;\\mathrm{least}\\;\\mathrm{one}\\;\\mathrm{covid}\\;\\mathrm{positive}\\right)=1-0\\ldotp 59=0\\ldotp 41$<br>\n",
    "So the upper bound is 0.5<br>"
   ]
  }
 ],
 "metadata": {
  "kernelspec": {
   "display_name": "Python 3.9.12 ('base')",
   "language": "python",
   "name": "python3"
  },
  "language_info": {
   "codemirror_mode": {
    "name": "ipython",
    "version": 3
   },
   "file_extension": ".py",
   "mimetype": "text/x-python",
   "name": "python",
   "nbconvert_exporter": "python",
   "pygments_lexer": "ipython3",
   "version": "3.9.12"
  },
  "orig_nbformat": 4,
  "vscode": {
   "interpreter": {
    "hash": "b92a85dd111e7f234cbdfd9e3dc75ce12717f6161daa18a82d26f0e8e840c205"
   }
  }
 },
 "nbformat": 4,
 "nbformat_minor": 2
}
