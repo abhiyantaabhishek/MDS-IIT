{
 "cells": [
  {
   "cell_type": "markdown",
   "metadata": {},
   "source": [
    "# Foundations of Machine Learning  (Basics) \n",
    "> Foundations of Machine Learning  week 1 \n",
    "\n",
    "- toc: true \n",
    "- badges: false\n",
    "- comments: true\n",
    "- categories: [Foundations of Machine Learning ]\n",
    "- author: Abhishek Kumar Dubey\n",
    "- image: images/CS6660_images/2022-08-13-CS6660-week2-preview.jpg"
   ]
  },
  {
   "cell_type": "markdown",
   "metadata": {},
   "source": [
    "## Types of ML"
   ]
  },
  {
   "cell_type": "markdown",
   "metadata": {},
   "source": [
    "- Supervised Learning\n",
    "    - classification, regression\n",
    "- Unsupervised learning\n",
    "- Other settings of ML\n",
    "    - Reinforcement learning\n",
    "    - Semi-supervised learning\n",
    "    - Active learning,Transfer learning,Structured learning\n",
    "- Dimensionality Reduction (unsupervised Learning)\n",
    "    - Large sample size is required for high dimensional data\n",
    "    - Query accuracy and efficiency degrade rapidly as the dimension increases\n",
    "    - strategies:\n",
    "        - Feature reduction, Feature selection, Manifold learning, Kernel learning\n",
    "        \n",
    "![](CS5590_images/MATLAB_z9KdPL77lT.png)"
   ]
  },
  {
   "cell_type": "markdown",
   "metadata": {},
   "source": [
    "## IID Assumption\n",
    "- Identically independently distributed : This is the assumption that the training data and testing data comes from the same distribution"
   ]
  },
  {
   "cell_type": "markdown",
   "metadata": {},
   "source": [
    "## Types of Models"
   ]
  },
  {
   "cell_type": "markdown",
   "metadata": {},
   "source": [
    "- Induction : Model Learns by Induction, ( creating it's own rules for example, if we do extensive research while buying mobile, we create set rules, it is called induction).\n",
    "- Transductions: Model learns from references ( for example, if we ask our friends about mobile and we buy according to their suggestion, it is called Transduction).\n",
    "- Online : data could be a stream, data keeps coming over time.\n",
    "- Offline: data is already acquired and trained offline.\n",
    "- Generative: Learns the distribution, the model learns joint probability distribution.\n",
    "- Discriminative:Learns to discriminate without learning distribution.\n",
    "- Parametric : The model have parameters like $\\mu$ and $\\sigma$\n",
    "- Non parametric: The model doesn't have parameters, as in K nearest neighbor (KNN)"
   ]
  },
  {
   "cell_type": "markdown",
   "metadata": {},
   "source": [
    "## Classifier evaluation"
   ]
  },
  {
   "cell_type": "markdown",
   "metadata": {},
   "source": [
    "![](CS5590_images/MATLAB_ljcLgT0iTJ.png)"
   ]
  },
  {
   "cell_type": "markdown",
   "metadata": {},
   "source": [
    "- Training Error\n",
    "    - Not very useful\n",
    "    - Relatively easy to obtain low error\n",
    "    - $E_{\\mathrm{train}} =\\frac{1}{n}\\sum_{i=1}^n \\mathrm{error}\\left(f_D \\left(X_i \\right),y_i \\right)$\n",
    "- Generalization Error\n",
    "    - Measure of how well do we do on unseen data\n",
    "    - $E_{\\mathrm{gen}} =\\int \\mathrm{error}\\left(f_D \\left(X\\right),y\\right)p\\left(y,X\\right)\\mathrm{dX}$"
   ]
  },
  {
   "cell_type": "markdown",
   "metadata": {},
   "source": [
    "## Stratified sampling\n",
    "- First stratify instances by class, then randomly select instances from each class proportionally\n",
    "- It ensures that the proportion of each class remains same in training and validation set."
   ]
  },
  {
   "cell_type": "markdown",
   "metadata": {},
   "source": [
    "## Model Selection\n",
    "- Re-Substitution : not useful as it suggests to re- substitute the train data for validation as well\n",
    "- K - Fold cross-validation : Divide the data in K fold using stratified sampling, and the select some set for training and some for validation in each iteration.\n",
    "- Leave-one-out\n",
    "    - N-fold cross-validation"
   ]
  }
 ],
 "metadata": {
  "kernelspec": {
   "display_name": "Python 3.7.8 64-bit",
   "language": "python",
   "name": "python3"
  },
  "language_info": {
   "codemirror_mode": {
    "name": "ipython",
    "version": 3
   },
   "file_extension": ".py",
   "mimetype": "text/x-python",
   "name": "python",
   "nbconvert_exporter": "python",
   "pygments_lexer": "ipython3",
   "version": "3.7.8"
  },
  "orig_nbformat": 4,
  "vscode": {
   "interpreter": {
    "hash": "0a54084e6b208ee8d1ce3989ffc20924477a5f55f5a43e22e699a6741623861e"
   }
  }
 },
 "nbformat": 4,
 "nbformat_minor": 2
}
