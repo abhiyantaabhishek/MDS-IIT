{
 "cells": [
  {
   "cell_type": "markdown",
   "metadata": {},
   "source": [
    "# Foundations of Machine Learning  (Basics) \n",
    "> Foundations of Machine Learning  week 1 \n",
    "\n",
    "- toc: true \n",
    "- badges: false\n",
    "- comments: true\n",
    "- categories: [Foundations of Machine Learning ]\n",
    "- author: Abhishek Kumar Dubey\n",
    "- image: images/CS6660_images/2022-08-13-CS6660-week2-preview.jpg"
   ]
  },
  {
   "cell_type": "markdown",
   "metadata": {},
   "source": [
    "## Types of ML"
   ]
  },
  {
   "cell_type": "markdown",
   "metadata": {},
   "source": [
    "- Supervised Learning\n",
    "    - classification, regression\n",
    "- Unsupervised learning\n",
    "- Other settings of ML\n",
    "    - Reinforcement learning\n",
    "    - Semi-supervised learning\n",
    "    - Active learning,Transfer learning,Structured learning\n",
    "- Dimensionality Reduction (unsupervised Learning)\n",
    "    - Large sample size is required for high dimensional data\n",
    "    - Query accuracy and efficiency degrade rapidly as the dimension increases\n",
    "    - strategies:\n",
    "        - Feature reduction, Feature selection, Manifold learning, Kernel learning"
   ]
  },
  {
   "cell_type": "markdown",
   "metadata": {},
   "source": [
    "## IID Assumption\n",
    "- Identically independently distributed : This is the assumption that the training data and testing data comes from the same distribution"
   ]
  },
  {
   "cell_type": "markdown",
   "metadata": {},
   "source": [
    "## Types of Models"
   ]
  },
  {
   "cell_type": "markdown",
   "metadata": {},
   "source": [
    "- Induction : Model Learns by Induction, ( creating it's own rules for example, if we do extensive research while buying mobile, we create set rules, it is called induction).\n",
    "- Transductions: Model learns from references ( for example, if we ask our friends about mobile and we buy according to their suggestion, it is called Transduction).\n",
    "- Online : data could be a stream, data keeps coming over time.\n",
    "- Offline: data is already acquired and trained offline.\n",
    "- Generative: Learns the distribution, the model learns joint probability distribution.\n",
    "- Discriminative:Learns to discriminate without learning distribution.\n",
    "- Parametric : The model have parameters like $\\mu$ and $\\sigma$\n",
    "- Non parametric: The model doesn't have parameters, as in K nearest neighbor (KNN)"
   ]
  },
  {
   "cell_type": "markdown",
   "metadata": {},
   "source": [
    "## Classifier evaluation"
   ]
  }
 ],
 "metadata": {
  "kernelspec": {
   "display_name": "Python 3.7.8 64-bit",
   "language": "python",
   "name": "python3"
  },
  "language_info": {
   "codemirror_mode": {
    "name": "ipython",
    "version": 3
   },
   "file_extension": ".py",
   "mimetype": "text/x-python",
   "name": "python",
   "nbconvert_exporter": "python",
   "pygments_lexer": "ipython3",
   "version": "3.7.8"
  },
  "orig_nbformat": 4,
  "vscode": {
   "interpreter": {
    "hash": "0a54084e6b208ee8d1ce3989ffc20924477a5f55f5a43e22e699a6741623861e"
   }
  }
 },
 "nbformat": 4,
 "nbformat_minor": 2
}
