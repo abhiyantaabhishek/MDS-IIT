{
 "cells": [
  {
   "cell_type": "markdown",
   "metadata": {},
   "source": [
    "# Machine Learning Model Evaluation Measures\n",
    "> Foundations of Machine Learning CS5590  week 2\n",
    "\n",
    "- toc: true \n",
    "- badges: true\n",
    "- comments: true\n",
    "- categories: [Foundations of Machine Learning ]\n",
    "- author: Abhishek Kumar Dubey\n",
    "- image: images/CS5590_images/chrome_CNeo323E9V.png"
   ]
  },
  {
   "cell_type": "markdown",
   "metadata": {},
   "source": [
    "## Evaluation Measures \n",
    "- Classification\n",
    "    - It is a measure of being  right/wrong,0-1, eg:  hinge loss, cross entropy loss \n",
    "- Regression loss\n",
    "    - It is a measure if how close we are to target, eg:  MEA, MES\n",
    "- Ranking/search\n",
    "    - It is a measure of top K search\n",
    "- Clustering \n",
    "    - How well we have described the data ( not straight forward)"
   ]
  },
  {
   "cell_type": "markdown",
   "metadata": {},
   "source": [
    "## Is accuracy adequate"
   ]
  },
  {
   "cell_type": "markdown",
   "metadata": {},
   "source": [
    "Accuracy may not not be useful in cases where:\n",
    "- There is a large class skew.\n",
    "- There are differential misclassification cost, say getting a positive wrong costs more than getting a negative wrong.\n",
    "- we are most interested in a subset of high confidence predictions. "
   ]
  },
  {
   "cell_type": "markdown",
   "metadata": {},
   "source": [
    "## Classification Error"
   ]
  },
  {
   "cell_type": "markdown",
   "metadata": {},
   "source": [
    "![](../images/CS5590_images/chrome_CNeo323E9V.png)\n"
   ]
  },
  {
   "cell_type": "markdown",
   "metadata": {},
   "source": [
    "> Tip: <br><br> Precision = How many retrieved items as relevant? <br> Recall = How many relevant items are retrieved?"
   ]
  },
  {
   "cell_type": "markdown",
   "metadata": {},
   "source": [
    "> Tip: <br><br>  sensitivity = Probability of positive test given a patient has a disease.<br> Specificity = Probability of a negative test given a patient is well.<br>Specificity = 1 - False Alarm<br> "
   ]
  },
  {
   "cell_type": "markdown",
   "metadata": {},
   "source": [
    "## Utility and cost\n",
    "- Detection Cost:\n",
    "    - cost = $C_{\\mathrm{FP}} \\times \\mathrm{FP}+C_{\\mathrm{FN}} \\times \\mathrm{FN}$\n",
    "- Fmeasure\n",
    "    - $F1=\\frac{2\\times \\left(\\mathrm{Recall}\\times \\mathrm{Precision}\\right)}{\\mathrm{Recall}+\\mathrm{Precision}}$"
   ]
  },
  {
   "cell_type": "markdown",
   "metadata": {},
   "source": [
    "## ROC curve\n",
    "- Receiver Operative Curve\n",
    "- Plot between True positive rate on y axis and False positive rate on x axis \n",
    "- AUC : Area under the curve, higher the area, better the performance\n",
    "\n",
    "![](../images/CS5590_images/MATLAB_eYMZjl3LEJ.png)"
   ]
  },
  {
   "cell_type": "markdown",
   "metadata": {},
   "source": [
    "# Precision Recall Curve\n",
    "- Plot between Precision on y axis and recall (TPR) on x axis. It is used for class imbalanced dataset mostly, It is also used when we can not calculate True Negative. "
   ]
  },
  {
   "cell_type": "markdown",
   "metadata": {},
   "source": [
    "# A nice way to define precision recall etc.\n",
    "Consider $Y$ as `true label` and $\\hat{Y}$ as `predicted label`. \n",
    "- precision  $=P\\left(Y=1|\\;\\hat{Y} =1\\right)$\n",
    "- Recall (TPR)   $=P\\left(\\hat{Y} =1|\\;Y=1\\right)$\n",
    "- False positive Rate (FPR) $=P\\left(\\hat{Y} =1|\\;Y=0\\right)$\n",
    "- True Negative Rate (TNR)= $=P\\left(\\hat{Y} =0|\\;Y=0\\right)$\n",
    "<br><br>\n",
    "> Note:<br><br> Notice that TPR and FPR which makes ROC curve  is conditioned on the  `true value`, and precision which is used in PR curve is conditioned on `predicted label`. This is the reason, PR curve is used for class imbalanced dataset, or where positive class is more interesting then negative class.<br> [If  question is: _\"How meaningful is a positive result from my classifier given the baseline probabilities of my problem?\"_, use a PR curve. If  question is, _\"How well can this classifier be expected to perform in general, at a variety of different baseline probabilities?\"_, go with a ROC curve.](https://stats.stackexchange.com/questions/7207/roc-vs-precision-and-recall-curves)"
   ]
  },
  {
   "cell_type": "markdown",
   "metadata": {},
   "source": [
    "# ROC curve vs PR curve"
   ]
  },
  {
   "cell_type": "markdown",
   "metadata": {},
   "source": [
    "Consider a dataset having 100 positive cases and 10,000 negative cases. Now consider 2 classifiers $A$ and $B$. $A$ predicts 9 as true positive, 40 as false positive whereas $B$ predicts 9 as true positive 1000 as false positive.<br>\n",
    "We can observe that as both the classifier predicts 9 out of 10 as true positive so both has same recall value, also FPR is small(as it can be seen in below picture), so the ROC curve which is drawn between recall (TPR) and FPR, will not differentiate among the two classifier. <br>\n",
    "But PR curve which is drawn between precision and recall, will look totally different here as both has different precision."
   ]
  },
  {
   "cell_type": "code",
   "execution_count": 57,
   "metadata": {},
   "outputs": [
    {
     "data": {
      "image/png": "[encoded data removed]",
      "text/plain": [
       "<Figure size 720x360 with 2 Axes>"
      ]
     },
     "metadata": {
      "needs_background": "light"
     },
     "output_type": "display_data"
    }
   ],
   "source": [
    "#collapse-hide\n",
    "import numpy as np\n",
    "from sklearn.metrics import confusion_matrix\n",
    "import seaborn as sns\n",
    "import numpy as np\n",
    "import matplotlib.pyplot as plt\n",
    "import seaborn as sns\n",
    "\n",
    "def get_conf_matrix_labels(cf_matrix):\n",
    "    group_names = ['True Neg','False Pos','False Neg','True Pos']\n",
    "    group_counts = ['{0:0.0f}'.format(value) for value in cf_matrix.flatten()]\n",
    "    group_percentages = ['{0:.2%}'.format(value) for value in cf_matrix.flatten()/np.sum(cf_matrix)]\n",
    "    labels = [f'{v1}\\n{v2}\\n{v3}' for v1, v2, v3 in zip(group_names,group_counts,group_percentages)]\n",
    "    labels = np.asarray(labels).reshape(cf_matrix.shape[0],cf_matrix.shape[1])\n",
    "    accuracy  = np.trace(cf_matrix) / float(np.sum(cf_matrix))\n",
    "    precision = cf_matrix[1,1] / sum(cf_matrix[:,1])\n",
    "    recall    = cf_matrix[1,1] / sum(cf_matrix[1,:])\n",
    "    fpr    = cf_matrix[0,1] / sum(cf_matrix[0,:])\n",
    "    stats_text = \"\\n\\nAccuracy={:0.3f}\\nPrecision={:0.3f}\\nRecall={:0.3f}\\nFPR={:0.4f}\".format(\n",
    "                accuracy,precision,recall,fpr)    \n",
    "    return labels,stats_text\n",
    "\n",
    "\n",
    "YTrue = np.hstack([np.ones(10),np.zeros(100000)]) # data with 100 positive and 10,000 negative cases\n",
    "yPredA = np.hstack([np.ones(9),np.zeros(1),np.ones(40),np.zeros(99960)]) # A predicts 9 True positive, 40 False  Positive,\n",
    "yPredB = np.hstack([np.ones(9),np.zeros(1),np.ones(1000),np.zeros(99000)]) # B predicts 9 True positive, 1000 False positive\n",
    "cf_matrixA = confusion_matrix(YTrue, yPredA)\n",
    "cf_matrixB = confusion_matrix(YTrue, yPredB)\n",
    "\n",
    "\n",
    "fig, ax = plt.subplots(1, 2, figsize=(10, 5))\n",
    "axis_labels = ['Negative Class','Positive Class']\n",
    "labels,stats_text=get_conf_matrix_labels(cf_matrixA)\n",
    "sns.heatmap(cf_matrixA, annot=labels, fmt='', cmap='Blues',ax=ax[0],cbar=False,xticklabels=axis_labels, yticklabels=axis_labels)\n",
    "ax[0].set_title('Classifier A')\n",
    "ax[0].set_xlabel('Predicted label'+stats_text)\n",
    "ax[0].set_ylabel('True label')\n",
    "labels,stats_text=get_conf_matrix_labels(cf_matrixB)\n",
    "sns.heatmap(cf_matrixB, annot=labels, fmt='', cmap='Blues',ax=ax[1],cbar=False,xticklabels=axis_labels, yticklabels=axis_labels)\n",
    "ax[1].set_title('Classifier B')\n",
    "ax[1].set_xlabel('Predicted label'+stats_text)\n",
    "_=ax[1].set_ylabel('True label')"
   ]
  },
  {
   "cell_type": "markdown",
   "metadata": {},
   "source": [
    "Accuracy also is not a good measure in above case. As both the classifier has similar accuracy. "
   ]
  },
  {
   "cell_type": "markdown",
   "metadata": {},
   "source": [
    "# Other performance measures\n",
    "- Kullback-Leibler Diverfence : $D_{\\mathrm{KL}} \\left(P\\|Q\\right)=\\sum_i P\\left(i\\right)\\log \\frac{P\\left(i\\right)}{Q\\left(i\\right)}$\n",
    "- Gini Statistic : $2\\times \\mathrm{AUC}-1$\n",
    "- F1 score: $\\frac{2\\times \\left(\\mathrm{Recall}\\times \\mathrm{Precision}\\right)}{\\mathrm{Recall}+\\mathrm{Precision}}$\n",
    "- Akaike Information Criterion (AIC): $2k-2\\ln \\left(L\\right)$, here  $k$ is number of model parameters, L is max value of the Likelihood  function for the model"
   ]
  },
  {
   "cell_type": "markdown",
   "metadata": {},
   "source": [
    "# Important points\n",
    "- Randomization of data is essential so that held-aside test data can be really representative of new data. \n",
    "- Test set should never be used in any way for normalization, hyper parameter tuning etc.\n",
    "- Any preprocessing done over entire data set ( feature selection, parameter tuning, threshold selection ) must not use labels from test set. "
   ]
  },
  {
   "cell_type": "markdown",
   "metadata": {},
   "source": [
    "# K-Nearest Neighbors"
   ]
  },
  {
   "cell_type": "markdown",
   "metadata": {},
   "source": [
    "## basic idea\n",
    "- If it walks like a duck, quacks like a duck , then it's probably a duck.\n",
    "- If data points are represented well then KNN works well.\n",
    "- choosing K is important, if K is too small then it becomes sensitive to noise point. If k is too large, neighborhood may incudes points from other class.\n",
    "- Euclidean distance between two instance $d\\left(X_i ,X_j \\right)=\\sqrt{\\sum_{r=1}^n {\\left(a_r \\left(X_i \\right)-a_{r\\left(X_j \\right)} \\right)}^2 }$ here $a_i \\left(X\\right)\\;$ denotes features.\n",
    "- In case of continuous valued target function, Mean value of K nearest training examples is taken\n",
    "\n",
    "## How to determinke K\n",
    "- experiment with different value of K starting form 1 on test set to validate the error, in case of binary classification use odd number for k to avoid ties.<br>\n",
    "\n",
    "KNN is a transductive method, there is no training involved , it is refereed as Lazy learning, Learning is just storing all the training instances <br> \n",
    "Similar Keywords: KNN, Memory Based Reasoning, Example Based Reasoning, Instance Based Learning, Case Based Reasoning, Lazy Learning<br>\n",
    "Voronoi Diagram: Decision surface formed by the training Examples for 1 nearest neighbors classifier<br> \n",
    "\n",
    "\n",
    "## Improvements\n",
    "- Distance weighted Nearest Neighbors\n",
    "- Scaling (normalization) attributes for fair computation fo distances \n",
    "- Measure \"closeness\" differently\n",
    "- Finding \"close\" example in large training set quickly , eg Efficient memory indexing using kd-tree\n",
    "\n",
    "## Pros\n",
    "- Highly effective transductive inference method for noisy training data and complex target functions.\n",
    "- Target function for a whole space may be described as a combinations of less complex local  approximations \n",
    "- Trains very fast (Lazy Learner)\n",
    "\n",
    "## Cons\n",
    "- Curse of dimensionality \n",
    "- Storage: all training example are saved in memory \n",
    "- slow at query time, can be overcome by  pre sorting and indexing training samples."
   ]
  },
  {
   "cell_type": "markdown",
   "metadata": {},
   "source": [
    "## Convergence of 1-NN\n",
    "$P\\left(\\mathrm{KNNError}\\right)=2\\left(\\mathrm{Bayes}\\;\\mathrm{Optimal}\\;\\mathrm{Error}\\;\\mathrm{Rate}\\right)$ , Probability of K NN error is at most twice the bayes optimal error, bayes optimal error is best(least) error we can get using machine learning <br>\n",
    "It is Possible to show that: as the size of training data set approaches infinity, the one nearest neighbor classifier guarantees an error rate of no worse than twice the bayes error rate ( the minimum achievable error rate given the distribution of the data)."
   ]
  },
  {
   "cell_type": "markdown",
   "metadata": {},
   "source": [
    "## Density Estimation using KNN\n",
    "Non parametric Density Estimation using KNN. <br>\n",
    "nstead of fixing bin width h and counting the mumber of instances, fix the instances(neighbors) k and check bin width $\\hat{p} \\left(X\\right)=\\frac{k}{2{\\mathrm{Nd}}_k \\left(X\\right)}$ here $d_k \\left(X\\right)$ is the $k_{\\mathrm{th}}$ closest distance to to $X$ , This is also known as __Parzen density estimation__."
   ]
  }
 ],
 "metadata": {
  "kernelspec": {
   "display_name": "Python 3.9.12 ('base')",
   "language": "python",
   "name": "python3"
  },
  "language_info": {
   "codemirror_mode": {
    "name": "ipython",
    "version": 3
   },
   "file_extension": ".py",
   "mimetype": "text/x-python",
   "name": "python",
   "nbconvert_exporter": "python",
   "pygments_lexer": "ipython3",
   "version": "3.9.12"
  },
  "orig_nbformat": 4,
  "vscode": {
   "interpreter": {
    "hash": "b92a85dd111e7f234cbdfd9e3dc75ce12717f6161daa18a82d26f0e8e840c205"
   }
  }
 },
 "nbformat": 4,
 "nbformat_minor": 2
}
