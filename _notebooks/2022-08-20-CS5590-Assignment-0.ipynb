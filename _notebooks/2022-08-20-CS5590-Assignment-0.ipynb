{
 "cells": [
  {
   "cell_type": "markdown",
   "metadata": {},
   "source": [
    "# FoML Assignment 0\n",
    "> Foundations of Machine Learning CS5590  Assignment 0\n",
    "\n",
    "- toc: true \n",
    "- badges: false\n",
    "- comments: true\n",
    "- categories: [Quizzes and assignments - Foundations of Machine Learning ]\n",
    "- author: Abhishek Kumar Dubey"
   ]
  },
  {
   "cell_type": "markdown",
   "metadata": {},
   "source": [
    "This homework is intended to review basic pre-requisites in the following topics:\n",
    "- Linear Algebra, Probability, Python programming"
   ]
  },
  {
   "cell_type": "markdown",
   "metadata": {},
   "source": [
    "# Practice Questions"
   ]
  },
  {
   "cell_type": "markdown",
   "metadata": {},
   "source": [
    "The questions below are only for your practice - no submission required. (The exam could include questions from this list though!)<br>"
   ]
  },
  {
   "cell_type": "markdown",
   "metadata": {},
   "source": [
    "## 1. Numpy\n",
    "---\n"
   ]
  },
  {
   "cell_type": "markdown",
   "metadata": {},
   "source": [
    "The following questions should be done using numpy operations. Each exercise can be solved with a maximum of 4-5 lines of Python code. Please avoid the use of iterative constructs (such as for loops) to the extent possible, and use matrix/vector operations to achieve the objectives.<br>\n",
    "Please use https://docs.python.org/3/tutorial/ for any reference required."
   ]
  },
  {
   "cell_type": "markdown",
   "metadata": {},
   "source": [
    "(a) Import the numpy package under the name np. Print the numpy version and the configuration."
   ]
  },
  {
   "cell_type": "code",
   "execution_count": 1,
   "metadata": {},
   "outputs": [
    {
     "name": "stdout",
     "output_type": "stream",
     "text": [
      "Version:\n",
      " 1.21.5\n"
     ]
    }
   ],
   "source": [
    "import numpy as np\n",
    "np.set_printoptions(precision=3)\n",
    "print('Version:\\n',np.__version__)\n",
    "# print('\\nconfiguration:\\n',np.show_config())\n"
   ]
  },
  {
   "cell_type": "markdown",
   "metadata": {},
   "source": [
    "(b) Create a null vector of size 10, and output the vector to the terminal."
   ]
  },
  {
   "cell_type": "code",
   "execution_count": 2,
   "metadata": {},
   "outputs": [
    {
     "name": "stdout",
     "output_type": "stream",
     "text": [
      "[0. 0. 0. 0. 0. 0. 0. 0. 0. 0.]\n"
     ]
    }
   ],
   "source": [
    "null_vector = np.zeros(10)\n",
    "print(null_vector)"
   ]
  },
  {
   "cell_type": "markdown",
   "metadata": {},
   "source": [
    "(c) Create a null vector of size 10 but the fifth value which is 1. Output the vector to the terminal."
   ]
  },
  {
   "cell_type": "code",
   "execution_count": 3,
   "metadata": {},
   "outputs": [
    {
     "name": "stdout",
     "output_type": "stream",
     "text": [
      "[0 0 0 0 1 0 0 0 0 0]\n"
     ]
    }
   ],
   "source": [
    "null_vector = (np.arange(10) == 4).astype(int)\n",
    "print(null_vector)"
   ]
  },
  {
   "cell_type": "markdown",
   "metadata": {},
   "source": [
    "(d) Reverse a vector (first element becomes last)."
   ]
  },
  {
   "cell_type": "code",
   "execution_count": 4,
   "metadata": {},
   "outputs": [
    {
     "name": "stdout",
     "output_type": "stream",
     "text": [
      "[5 4 3 2 1]\n"
     ]
    }
   ],
   "source": [
    "vector=np.array([1,2,3,4,5])\n",
    "print(vector[::-1])"
   ]
  },
  {
   "cell_type": "markdown",
   "metadata": {},
   "source": [
    "(e) Create an $n × n$ array with checkerboard pattern of zeros and ones."
   ]
  },
  {
   "cell_type": "code",
   "execution_count": 5,
   "metadata": {},
   "outputs": [
    {
     "name": "stdout",
     "output_type": "stream",
     "text": [
      "[[0. 1. 0. 1. 0.]\n",
      " [1. 0. 1. 0. 1.]\n",
      " [0. 1. 0. 1. 0.]\n",
      " [1. 0. 1. 0. 1.]\n",
      " [0. 1. 0. 1. 0.]]\n"
     ]
    }
   ],
   "source": [
    "n=5\n",
    "checkerboard = np.ones(shape=(5,5))\n",
    "checkerboard[::2,::2]=0\n",
    "checkerboard[1::2,1::2]=0\n",
    "print(checkerboard)"
   ]
  },
  {
   "cell_type": "markdown",
   "metadata": {},
   "source": [
    "(f) Given an $n × n$ array, sort the rows of array according to $m^{th}$ column of array."
   ]
  },
  {
   "cell_type": "code",
   "execution_count": 6,
   "metadata": {},
   "outputs": [
    {
     "name": "stdout",
     "output_type": "stream",
     "text": [
      "Original array:\n",
      " [[88 22 64 73 98]\n",
      " [ 7 63 33 96 69]\n",
      " [22 22 32 79 55]\n",
      " [33 18 76 85 44]\n",
      " [17 93 71 87 88]]\n",
      "sorted array:\n",
      " [[22 22 32 79 55]\n",
      " [ 7 63 33 96 69]\n",
      " [88 22 64 73 98]\n",
      " [17 93 71 87 88]\n",
      " [33 18 76 85 44]]\n"
     ]
    }
   ],
   "source": [
    "n=5\n",
    "m=2 # sort by column\n",
    "random_array = np.random.randint(1,100,size=(n,n))\n",
    "print('Original array:\\n',random_array)\n",
    "print('sorted array:\\n',random_array[random_array[:,m].argsort()])"
   ]
  },
  {
   "cell_type": "markdown",
   "metadata": {},
   "source": [
    "(g) Create an $n × n$ array with $(i + j)^{th}$-entry equal to $i + j$."
   ]
  },
  {
   "cell_type": "code",
   "execution_count": 7,
   "metadata": {},
   "outputs": [
    {
     "name": "stdout",
     "output_type": "stream",
     "text": [
      "[[0 1 2 3 4]\n",
      " [1 2 3 4 5]\n",
      " [2 3 4 5 6]\n",
      " [3 4 5 6 7]\n",
      " [4 5 6 7 8]]\n"
     ]
    }
   ],
   "source": [
    "n=5\n",
    "print(np.add.outer(range(n),range(n)))"
   ]
  },
  {
   "cell_type": "markdown",
   "metadata": {},
   "source": [
    "(h) Consider a $\\left(6,7,8\\right)$ shape array, what is the index $\\left(x,y,z\\right)$ of the $100^{th}$ element (of the entire structure)?"
   ]
  },
  {
   "cell_type": "code",
   "execution_count": 21,
   "metadata": {},
   "outputs": [
    {
     "name": "stdout",
     "output_type": "stream",
     "text": [
      "Answer: (x,y,z) = (1,5,4)\n",
      "Answer: (x,y,z) = (1,5,4)\n"
     ]
    }
   ],
   "source": [
    "array = np.arange(0,6*7*8).reshape((6,7,8))\n",
    "n=100\n",
    "x = int(n/(7*8))\n",
    "n=n%(7*8)\n",
    "y = int(n/(8))\n",
    "z=n%(8)\n",
    "print('Answer: (x,y,z) = ({},{},{})'.format(x,y,z))\n",
    "assert array.flatten()[x*7*8+y*8+z] == array[x,y,z]\n",
    "# OR\n",
    "print ('Answer: (x,y,z) = ({},{},{})'.format(*np.unravel_index(100, (6,7,8))))\n"
   ]
  },
  {
   "cell_type": "markdown",
   "metadata": {},
   "source": [
    "(i) Multiply a $5 × 3$ matrix by a $3 × 2$ matrix (real matrix product)."
   ]
  },
  {
   "cell_type": "code",
   "execution_count": 9,
   "metadata": {},
   "outputs": [
    {
     "name": "stdout",
     "output_type": "stream",
     "text": [
      "matA:\n",
      " [[3 2 6]\n",
      " [6 1 6]\n",
      " [8 1 8]\n",
      " [4 8 4]\n",
      " [5 0 2]]\n",
      "matB:\n",
      " [[3 7]\n",
      " [5 4]\n",
      " [5 1]]\n",
      "product:\n",
      " [[49 35]\n",
      " [53 52]\n",
      " [69 68]\n",
      " [72 64]\n",
      " [25 37]]\n"
     ]
    }
   ],
   "source": [
    "matA = np.random.randint(9,size=(5,3))\n",
    "matB = np.random.randint(9,size=(3,2))\n",
    "prod = np.matmul(matA,matB)\n",
    "print('matA:\\n',matA)\n",
    "print('matB:\\n',matB)\n",
    "print('product:\\n',prod)"
   ]
  },
  {
   "cell_type": "markdown",
   "metadata": {},
   "source": [
    "(j) Create random vector of size $10$ and replace the maximum value by $0$."
   ]
  },
  {
   "cell_type": "code",
   "execution_count": 10,
   "metadata": {},
   "outputs": [
    {
     "name": "stdout",
     "output_type": "stream",
     "text": [
      "mat:\n",
      " [7 8 4 3 8 2 0 3 7 0]\n",
      "New mat:\n",
      " [7 0 4 3 8 2 0 3 7 0]\n"
     ]
    }
   ],
   "source": [
    "mat = np.random.randint(9,size=10)\n",
    "print('mat:\\n',mat)\n",
    "mat[mat.argmax()]=0\n",
    "print('New mat:\\n',mat)"
   ]
  },
  {
   "cell_type": "markdown",
   "metadata": {},
   "source": [
    "(k) How to find the closest value (to a given scalar) in an array?"
   ]
  },
  {
   "cell_type": "code",
   "execution_count": 11,
   "metadata": {},
   "outputs": [
    {
     "name": "stdout",
     "output_type": "stream",
     "text": [
      "mat:\n",
      " [4 5 3 7 8 6 3 4 0 4]\n",
      "closest value to scalar=5 is 5\n"
     ]
    }
   ],
   "source": [
    "mat = np.random.randint(9,size=10)\n",
    "scalar = 5\n",
    "print('mat:\\n',mat)\n",
    "closest = mat[np.absolute(mat-scalar).argmin()]\n",
    "print('closest value to scalar={} is {}'.format(scalar,closest))"
   ]
  },
  {
   "cell_type": "markdown",
   "metadata": {},
   "source": [
    "(l) Subtract the mean of each row from each corresponding row of a matrix."
   ]
  },
  {
   "cell_type": "code",
   "execution_count": 14,
   "metadata": {},
   "outputs": [
    {
     "name": "stdout",
     "output_type": "stream",
     "text": [
      "mat:\n",
      " [[8 6 4]\n",
      " [5 2 7]\n",
      " [5 1 4]\n",
      " [8 0 1]]\n",
      "After subtracting mean from each row:\n",
      " [[ 2.     0.    -2.   ]\n",
      " [ 0.333 -2.667  2.333]\n",
      " [ 1.667 -2.333  0.667]\n",
      " [ 5.    -3.    -2.   ]]\n"
     ]
    }
   ],
   "source": [
    "mat = np.random.randint(9,size=(4,3))\n",
    "print('mat:\\n',mat)\n",
    "mean = mat.mean(axis=1)\n",
    "new_mat = mat-mean.T[...,None]\n",
    "print('After subtracting mean from each row:\\n',new_mat)\n"
   ]
  },
  {
   "cell_type": "markdown",
   "metadata": {},
   "source": [
    "(m) Consider a given vector, how to add 1 to each element indexed by a second vector (be careful with repeated indices - you should consider it only once)?"
   ]
  },
  {
   "cell_type": "code",
   "execution_count": 16,
   "metadata": {},
   "outputs": [
    {
     "name": "stdout",
     "output_type": "stream",
     "text": [
      "mat:\n",
      " [4 5 6 7]\n",
      "mat:\n",
      " [5 5 6 8]\n"
     ]
    }
   ],
   "source": [
    "mat = np.random.randint(9,size=4)\n",
    "indexes = np.array([0,0,3])\n",
    "print('mat:\\n',mat)\n",
    "mat[np.unique(indexes)]+=1\n",
    "print('mat:\\n',mat)"
   ]
  },
  {
   "cell_type": "markdown",
   "metadata": {},
   "source": [
    "(n) How to find the most frequent value in an array?"
   ]
  },
  {
   "cell_type": "code",
   "execution_count": 18,
   "metadata": {},
   "outputs": [
    {
     "name": "stdout",
     "output_type": "stream",
     "text": [
      "mat:\n",
      " [0 2 1 0 0]\n",
      "most frequent value = 0\n"
     ]
    }
   ],
   "source": [
    "mat = np.random.randint(3,size=5)\n",
    "print('mat:\\n',mat)\n",
    "value,count = np.unique(mat,return_counts=True)\n",
    "print('most frequent value = {}'.format(value[count.argmax()]))"
   ]
  },
  {
   "cell_type": "markdown",
   "metadata": {},
   "source": [
    "(o) Extract all the contiguous $3 × 3$ blocks from a random $10 × 10$ matrix."
   ]
  },
  {
   "cell_type": "code",
   "execution_count": 46,
   "metadata": {},
   "outputs": [],
   "source": [
    "mat = np.random.randint(0,9,(10,10))\n",
    "n=3\n",
    "i=1+(mat.shape[0]-n)\n",
    "j=1+(mat.shape[1]-n)\n",
    "res = np.lib.stride_tricks.as_strided(mat,shape=(i,j,n,n),strides=mat.strides+mat.strides)\n"
   ]
  },
  {
   "cell_type": "markdown",
   "metadata": {},
   "source": [
    "(p) Compute the rank, trace and determinant of a matrix."
   ]
  },
  {
   "cell_type": "code",
   "execution_count": 67,
   "metadata": {},
   "outputs": [
    {
     "name": "stdout",
     "output_type": "stream",
     "text": [
      "Matrix :\n",
      "[[2 2 2 0]\n",
      " [5 2 5 0]\n",
      " [7 3 5 4]\n",
      " [8 5 2 1]]\n",
      "Matrix Rank :4\n",
      "Matrix Determinant :-132.00\n"
     ]
    }
   ],
   "source": [
    "mat = np.random.randint(0,9,(4,4))\n",
    "print('Matrix :\\n{}'.format(mat))\n",
    "print('Matrix Rank :{}'.format(np.linalg.matrix_rank(mat)))\n",
    "print('Matrix Determinant :{:.2f}'.format(np.linalg.det(mat)))"
   ]
  },
  {
   "cell_type": "markdown",
   "metadata": {},
   "source": [
    "## 2. Linear Algebra\n",
    "---"
   ]
  },
  {
   "cell_type": "markdown",
   "metadata": {},
   "source": [
    "(a) Prove or disprove: Empty set is a vector space."
   ]
  },
  {
   "cell_type": "markdown",
   "metadata": {},
   "source": [
    "\n",
    "- Answer:<br>[Axioms of  vector spaces:](https://www.math.ucla.edu/~tao/resource/general/121.1.00s/vector_axioms.html)<br>\n",
    "    - A real vector space is a set $X$ with a special element $0$, and three operations:<br>\n",
    "        - Addition:  Given two elements $x$, $y$ in $X$, one can form the sum $x+y$, which is also an element of $X$.<br>\n",
    "        - Inverse: Given an element $x$ in $X$, one can form the inverse $-x$, which is also an element of $X$.<br>\n",
    "        - Scalar multiplication:  Given an element $x$ in $X$ and a real number $c$, one can form the product $cx$, which is also an element of $X$.<br><br>\n",
    "    - As Empty set doesn't contain element $0$ Hence we can say that Empty set is __NOT__ a vector space\n",
    "<br>\n"
   ]
  },
  {
   "cell_type": "markdown",
   "metadata": {},
   "source": [
    "(b) Show that the inverse of $M=I+\\left({\\mathbf{uv}}^T \\right)$ is of the type $I+\\alpha \\left({\\mathbf{uv}}^T \\right)$, where $\\mathit{\\mathbf{u}},\\mathit{\\mathbf{v}}\\in {\\mathbb{R}}^n ,{\\mathit{\\mathbf{v}}}^T \\mathit{\\mathbf{u}}\\not= 0$\n",
    "1. Continuing from previous question, find $\\alpha$.\n",
    "2. For what $u$ and $v$ is $M$ singular?\n",
    "3. Find the null space of $M$, if it is singular.\n",
    "\n"
   ]
  },
  {
   "cell_type": "markdown",
   "metadata": {},
   "source": [
    "\n",
    "- Answer:"
   ]
  },
  {
   "cell_type": "markdown",
   "metadata": {},
   "source": [
    "(c) <br>\n",
    "1. Consider the 2 × 2 matrix: \n",
    "$A=\\left\\lbrack \\begin{array}{cc}\n",
    "-2 & 2\\\\\n",
    "-6 & 5\n",
    "\\end{array}\\right\\rbrack$\n",
    "There exists vectors such that when the matrix $A$ acts on those vectors, the subspace of the vectors does not change. Mathematically, $Ax = \\lambda I$.<br> \n",
    "The vectors $x$ are called `eigenvectors` and the values $\\lambda$ are the corresponding `eigenvalues`. Find the eigenvalues and corresponding eigenvectors for the matrix $A$.<br>\n",
    "2. Consider a diagonal matrix $\\Lambda$ which has the eigenvalues of $A$ as its diagonal entries. Find the matrix $U$ such that the equation $AU = U\\Lambda$ holds.\n",
    "3. Note that we can write the matrix $A$ as $A$ = $U \\Lambda U^{−1}$. Find the inverse of the matrix $U$ computed in the previous question and verify.\n"
   ]
  },
  {
   "cell_type": "markdown",
   "metadata": {},
   "source": [
    "- Answer:<br><br>\n",
    "1. <br>$A=\\left\\lbrack \\begin{array}{cc}\n",
    "-2 & 2\\\\\n",
    "-6 & 5\n",
    "\\end{array}\\right\\rbrack$<br><br>\n",
    "$\\mathrm{Ax}=\\lambda x$<br><br>\n",
    "$\\Rightarrow \\mathrm{Ax}-\\lambda \\;x=0\\Rightarrow \\left(A-\\lambda I\\right)x=0$<br><br>\n",
    "$\\left\\lbrack \\begin{array}{cc}\n",
    "-2 & 2\\\\\n",
    "-6 & 5\n",
    "\\end{array}\\right\\rbrack -\\lambda \\left\\lbrack \\begin{array}{cc}\n",
    "1 & 0\\\\\n",
    "0 & 1\n",
    "\\end{array}\\right\\rbrack =0$<br><br>\n",
    "$\\left\\lbrack \\begin{array}{cc}\n",
    "-2 & 2\\\\\n",
    "-6 & 5\n",
    "\\end{array}\\right\\rbrack -\\left\\lbrack \\begin{array}{cc}\n",
    "\\lambda  & 0\\\\\n",
    "0 & \\lambda \n",
    "\\end{array}\\right\\rbrack =0$<br><br>\n",
    "$\\left\\lbrack \\begin{array}{cc}\n",
    "-2-\\lambda  & 2\\\\\n",
    "-6 & 5-\\lambda \n",
    "\\end{array}\\right\\rbrack =0$<br><br>\n",
    "$\\left(-2-\\lambda \\right)\\left(5-\\lambda \\right)-2\\left(-6\\right)=0$<br>\n",
    "$-10+2\\lambda -5\\lambda_{\\;} +\\lambda^2 +12=0$<br>\n",
    "$\\lambda^2 -3\\lambda +2=0$<br>\n",
    "$\\left(\\lambda -2\\right)\\left(\\lambda -1\\right)=0$<br>\n",
    "$\\lambda =2,\\lambda =1$<br>\n",
    "for $\\lambda =2$ put $\\lambda$ value in $\\left(A-\\lambda I\\right)x=0$<br><br>\n",
    "$\\left\\lbrack \\begin{array}{cc}\n",
    "-2-\\lambda  & 2\\\\\n",
    "-6 & 5-\\lambda \n",
    "\\end{array}\\right\\rbrack \\left\\lbrack \\begin{array}{c}\n",
    "x\\\\\n",
    "y\n",
    "\\end{array}\\right\\rbrack =\\left\\lbrack \\begin{array}{c}\n",
    "0\\\\\n",
    "0\n",
    "\\end{array}\\right\\rbrack$<br><br>\n",
    "$\\left\\lbrack \\begin{array}{cc}\n",
    "-2-2 & 2\\\\\n",
    "-6 & 5-2\n",
    "\\end{array}\\right\\rbrack \\left\\lbrack \\begin{array}{c}\n",
    "x\\\\\n",
    "y\n",
    "\\end{array}\\right\\rbrack =\\left\\lbrack \\begin{array}{c}\n",
    "0\\\\\n",
    "0\n",
    "\\end{array}\\right\\rbrack$<br><br>\n",
    "$\\left\\lbrack \\begin{array}{cc}\n",
    "-4 & 2\\\\\n",
    "-6 & 3\n",
    "\\end{array}\\right\\rbrack \\left\\lbrack \\begin{array}{c}\n",
    "x\\\\\n",
    "y\n",
    "\\end{array}\\right\\rbrack =\\left\\lbrack \\begin{array}{c}\n",
    "0\\\\\n",
    "0\n",
    "\\end{array}\\right\\rbrack$<br><br>\n",
    "We get below 2 equations: <br>\n",
    "$-4x+2y=0$<br>\n",
    "$-6x+3y=0$<br>\n",
    "After solving we get :<br><br>\n",
    "$\\left\\lbrack \\begin{array}{c}\n",
    "x\\\\\n",
    "y\n",
    "\\end{array}\\right\\rbrack =\\left\\lbrack \\begin{array}{c}\n",
    "1\\\\\n",
    "2\n",
    "\\end{array}\\right\\rbrack$<br><br>\n",
    "Similarly for $\\lambda$=1, we get:<br><br>\n",
    "$\\left\\lbrack \\begin{array}{cc}\n",
    "-2-\\lambda  & 2\\\\\n",
    "-6 & 5-\\lambda \n",
    "\\end{array}\\right\\rbrack \\left\\lbrack \\begin{array}{c}\n",
    "x\\\\\n",
    "y\n",
    "\\end{array}\\right\\rbrack =\\left\\lbrack \\begin{array}{c}\n",
    "0\\\\\n",
    "0\n",
    "\\end{array}\\right\\rbrack$<br><br>\n",
    "$\\left\\lbrack \\begin{array}{cc}\n",
    "-2-1 & 2\\\\\n",
    "-6 & 5-1\n",
    "\\end{array}\\right\\rbrack \\left\\lbrack \\begin{array}{c}\n",
    "x\\\\\n",
    "y\n",
    "\\end{array}\\right\\rbrack =\\left\\lbrack \\begin{array}{c}\n",
    "0\\\\\n",
    "0\n",
    "\\end{array}\\right\\rbrack$<br><br>\n",
    "$\\left\\lbrack \\begin{array}{cc}\n",
    "-3 & 2\\\\\n",
    "-6 & 4\n",
    "\\end{array}\\right\\rbrack \\left\\lbrack \\begin{array}{c}\n",
    "x\\\\\n",
    "y\n",
    "\\end{array}\\right\\rbrack =\\left\\lbrack \\begin{array}{c}\n",
    "0\\\\\n",
    "0\n",
    "\\end{array}\\right\\rbrack$<br><br>\n",
    "$-3x+2y=0$<br>\n",
    "$-6x+4y=0$<br>\n",
    "After solving above 2 equations we get:<br><br>\n",
    "$\\left\\lbrack \\begin{array}{c}\n",
    "x\\\\\n",
    "y\n",
    "\\end{array}\\right\\rbrack =\\left\\lbrack \\begin{array}{c}\n",
    "2\\\\\n",
    "3\n",
    "\\end{array}\\right\\rbrack$<br><br>\n",
    "2. <br> $\\mathrm{AU}=U\\Lambda$ holds when $U$ is a the matrix with all the eigen vectors.<br>\n",
    "Hence <br><br>\n",
    "$U=\\left\\lbrack \\begin{array}{cc}\n",
    "2 & 1\\\\\n",
    "3 & 2\n",
    "\\end{array}\\right\\rbrack$<br><br>\n",
    "3. <br>  $A$ = $U \\Lambda U^{−1}$<br><br>\n",
    "$U=\\left\\lbrack \\begin{array}{cc}\n",
    "2 & 1\\\\\n",
    "3 & 2\n",
    "\\end{array}\\right\\rbrack$<br><br>\n",
    "$U^{-1} =\\frac{1}{|U|}\\cdot \\mathrm{Adj}\\;U$<br><br>\n",
    "$\\Rightarrow U^{-1} =\\frac{1}{4-3}\\left\\lbrack \\begin{array}{cc}\n",
    "2 & -1\\\\\n",
    "-3 & 2\n",
    "\\end{array}\\right\\rbrack$<br><br>\n",
    "$\\Rightarrow U^{-1} =\\left\\lbrack \\begin{array}{cc}\n",
    "2 & -1\\\\\n",
    "-3 & 2\n",
    "\\end{array}\\right\\rbrack$<br><br>\n",
    "$U^{\\;} \\Lambda U^{-1} =\\left\\lbrack \\begin{array}{cc}\n",
    "2 & 1\\\\\n",
    "3 & 2\n",
    "\\end{array}\\right\\rbrack \\left\\lbrack \\begin{array}{cc}\n",
    "1 & 0\\\\\n",
    "0 & 2\n",
    "\\end{array}\\right\\rbrack \\left\\lbrack \\begin{array}{cc}\n",
    "2 & -1\\\\\n",
    "-3 & 2\n",
    "\\end{array}\\right\\rbrack$<br><br>\n",
    "$\\Rightarrow U^{\\;} \\Lambda U^{-1} =\\left\\lbrack \\begin{array}{cc}\n",
    "-2 & 2\\\\\n",
    "-6 & 5\n",
    "\\end{array}\\right\\rbrack$<br><br>\n",
    "Which is ame as $A$, hence proved.\n"
   ]
  },
  {
   "cell_type": "markdown",
   "metadata": {},
   "source": [
    "Below is the solution of above question using Numpy, The Eigen Vector seems to be different because it's normalized one."
   ]
  },
  {
   "cell_type": "code",
   "execution_count": 106,
   "metadata": {},
   "outputs": [
    {
     "name": "stdout",
     "output_type": "stream",
     "text": [
      "eigen Value:\n",
      " [1. 2.]\n",
      "eigen Vector:\n",
      " [[-0.555 -0.447]\n",
      " [-0.832 -0.894]]\n"
     ]
    }
   ],
   "source": [
    "import numpy as np\n",
    "m = np.array([[-2, 2],\n",
    "              [-6, 5]])\n",
    "eigValue,eigVector = np.linalg.eig(m)\n",
    "print('eigen Value:\\n',eigValue)\n",
    "print('eigen Vector:\\n',eigVector)"
   ]
  },
  {
   "cell_type": "code",
   "execution_count": 105,
   "metadata": {},
   "outputs": [
    {
     "name": "stdout",
     "output_type": "stream",
     "text": [
      "[[-2.  2.]\n",
      " [-6.  5.]]\n"
     ]
    }
   ],
   "source": [
    "U = np.array([[2, 1],\n",
    "              [3, 2]])\n",
    "Lambda  = np.array([[1, 0],\n",
    "                    [0, 2]])\n",
    "U_inv = np.linalg.inv(U)\n",
    "\n",
    "print(U.dot(Lambda).dot(U_inv))"
   ]
  },
  {
   "cell_type": "markdown",
   "metadata": {},
   "source": [
    "(c) Show that for any square matrix $A$, the eigenvectors of $A$ are also eigenvectors of $A^2$. What are the eigenvalues for $A^2$?"
   ]
  }
 ],
 "metadata": {
  "kernelspec": {
   "display_name": "Python 3.9.12 ('base')",
   "language": "python",
   "name": "python3"
  },
  "language_info": {
   "codemirror_mode": {
    "name": "ipython",
    "version": 3
   },
   "file_extension": ".py",
   "mimetype": "text/x-python",
   "name": "python",
   "nbconvert_exporter": "python",
   "pygments_lexer": "ipython3",
   "version": "3.9.12"
  },
  "orig_nbformat": 4,
  "vscode": {
   "interpreter": {
    "hash": "b92a85dd111e7f234cbdfd9e3dc75ce12717f6161daa18a82d26f0e8e840c205"
   }
  }
 },
 "nbformat": 4,
 "nbformat_minor": 2
}
