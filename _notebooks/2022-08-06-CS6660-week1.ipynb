{
 "cells": [
  {
   "cell_type": "markdown",
   "metadata": {},
   "source": [
    "# Probability\n",
    "> Probability for Data Science\n",
    "\n",
    "- toc: true \n",
    "- badges: false\n",
    "- comments: true\n",
    "- categories: [Probability]\n",
    "- author: Abhishek Kumar Dubey\n",
    "- image: images/chart-preview.png"
   ]
  },
  {
   "cell_type": "markdown",
   "metadata": {},
   "source": [
    "## Basics"
   ]
  },
  {
   "cell_type": "markdown",
   "metadata": {},
   "source": [
    "\n",
    "### The Union and intersection\n",
    "The union $E\\cup F\\;$ of events $E$ and $F$ always means $E$ OR $F$ , The intersection $E\\cap F$ of events $E$ and $F$ always means $E$ AND $F$<br>\n",
    "> Tip: The union $\\bigcup_i E_{i\\;}$ of events $E_{i\\;\\;}$ always means at least one of the $E_i$'s, The intersection $\\bigcap_i E_i$ of events $E_{i\\;}$ always means each of the $E_i$'s"
   ]
  },
  {
   "cell_type": "markdown",
   "metadata": {},
   "source": [
    "### Complementary Events\n",
    "The complement of an event is  $E^c =\\bar{E} =E^* :=\\Omega -E$"
   ]
  },
  {
   "cell_type": "markdown",
   "metadata": {},
   "source": [
    "### Simple Properties of events\n",
    "- commutativity: <br>\n",
    "$\\begin{array}{l}\n",
    "E\\cup F=F\\cup E\\\\\n",
    "E\\cap F=F\\cap E\n",
    "\\end{array}$\n",
    "- Associativity: <br>\n",
    "$\\begin{array}{l}\n",
    "E\\cup \\left(F\\cup G\\right)=\\left(E\\cup F\\right)\\cup G=E\\cup F\\cup G\\\\\n",
    "E\\cap \\left(F\\cap G\\right)=\\left(E\\cap F\\right)\\cap G=E\\cap F\\cap G\n",
    "\\end{array}$\n",
    "- Distributivity: <br>\n",
    "$\\begin{array}{l}\n",
    "\\left(E\\cup F\\right)\\cap G=\\left(E\\cap G\\right)\\cup \\left(F\\cap G\\right)\\\\\n",
    "\\left(E\\cap F\\right)\\cup G=\\left(E\\cup G\\right)\\cap \\left(F\\cup G\\right)\\;\n",
    "\\end{array}$\n",
    "- De Morgan's Law: <br>\n",
    "$\\begin{array}{l}\n",
    "{\\left(E\\cup F\\right)}^c =E^{c\\;} \\cap F^{c\\;} \\\\\n",
    "{\\left(E\\cap F\\right)}^{c\\;} =E^c \\cup F^c \n",
    "\\end{array}$ Similarly\n",
    "$\\begin{array}{l}\n",
    "{\\left({\\bigcup_{\\;\\;} }_i E_{i\\;} \\right)}^c ={\\bigcap_{\\;} }_i E_{i\\;}^{c\\;} \\\\\n",
    "{\\left({\\bigcap_{\\;} }_i E_{i\\;} \\right)}^{c\\;} ={\\bigcup_{\\;} }_i E_i^{c\\;} \n",
    "\\end{array}$"
   ]
  },
  {
   "cell_type": "markdown",
   "metadata": {},
   "source": [
    "### Definition (axioms of probability)\n",
    "The probability $P$ on a sample space $\\Omega$ assigns  numbers to events $\\Omega$ of in such a way that\n",
    "1. The probability of any event is non-negative : $P\\left\\lbrace E\\right\\rbrace \\ge 0$\n",
    "2. The probability if the sample space is one : $P\\left\\lbrace \\Omega \\;\\right\\rbrace =1$\n",
    "3. For any finitely or countably infinitely many manually exclusive events $E_{1,} E_2 ,\\ldotp \\ldotp \\ldotp$ , \n",
    "$P\\left\\lbrace {\\bigcup_{i\\;} E_{i\\;} }_{\\;} \\right\\rbrace =\\sum_i P\\left\\lbrace E_i \\right\\rbrace \\;$"
   ]
  },
  {
   "cell_type": "markdown",
   "metadata": {},
   "source": [
    "### A few simple facts   \n",
    "Inclusion-exclusion principle: <br>\n",
    "- For any events $E$ and $F$, $P\\left\\lbrace E\\cup F\\right\\rbrace =P\\left\\lbrace E\\right\\rbrace +P\\left\\lbrace F\\right\\rbrace -P\\left\\lbrace E\\cap F\\right\\rbrace$ <br>\n",
    "- For any events $E$,  $F$ and $G$:<br> \n",
    "$P\\left\\lbrace E\\cup F\\cup G\\right\\rbrace =P\\left\\lbrace E\\right\\rbrace +P\\left\\lbrace F\\right\\rbrace +P\\left\\lbrace G\\right\\rbrace -P\\left\\lbrace E\\cap F\\right\\rbrace -P\\left\\lbrace E\\cap G\\right\\rbrace -P\\left\\lbrace F\\cap G\\right\\rbrace +P\\left\\lbrace E\\cap F\\cap G\\right\\rbrace$<br>\n",
    "- Generally:<br>\n",
    "$p\\left\\lbrace E_1 \\cup E_2 \\cup E_3 \\cup \\ldotp \\ldotp \\ldotp \\cup E_n \\right\\rbrace =\\sum_{1\\le i\\le n} P\\left\\lbrace E_i \\right\\rbrace -\\sum_{1\\le i_1 \\le i_2 \\le n} P\\left\\lbrace E_{i_1 } \\cap E_{i_2 } \\right\\rbrace +\\sum_{1\\le i_1 \\le i_2 \\le i_{3\\;} \\le n} \\left\\lbrace P\\left\\lbrace E_{i_1 } \\cap E_{i_2 } \\cap E_{i_3 } \\right\\rbrace \\right\\rbrace -\\ldotp \\ldotp \\ldotp \\;+{\\left(-1\\right)}^{n+1} P\\left\\lbrace E_1 \\cap E_2 \\cap E_3 \\right\\rbrace$"
   ]
  },
  {
   "cell_type": "markdown",
   "metadata": {},
   "source": [
    "### Boole's inequality\n",
    " - For any events $E_1 ,E_2 ,\\ldotp \\ldotp \\ldotp E_n$<br>\n",
    " $P\\left\\lbrace \\bigcup_{i=1}^n E_i \\right\\rbrace \\le \\sum_{i=1}^n P\\left\\lbrace E_i \\right\\rbrace$<br>\n",
    " <br>\n"
   ]
  },
  {
   "cell_type": "markdown",
   "metadata": {},
   "source": [
    "### Example\n",
    "Out of $n$  people, what is the probability that there are no coinciding birthdays?\n",
    "$|\\Omega |={365}^n$<br>\n",
    "$|E|=365\\ldotp 364\\ldotp \\ldotp \\ldotp \\left(365-n+1\\right)=\\frac{365!}{\\left(365-n\\right)!}$ <br>\n",
    "$P\\left\\lbrace E\\right\\rbrace =\\frac{|E|}{|\\Omega |}=\\frac{365!}{\\left(365-n\\right)!{365}^n }$"
   ]
  },
  {
   "cell_type": "markdown",
   "metadata": {},
   "source": [
    "### Conditional Probability\n",
    "Let $F$ be an Event with $P\\left\\lbrace F\\right\\rbrace >0$ . then the conditional probability $E$ of given $F$  is defined  as:\n",
    "$P\\left\\lbrace E|F\\right\\rbrace :=\\frac{P\\left\\lbrace E\\cap F\\right\\rbrace }{P\\left\\lbrace F\\right\\rbrace }$ <br>\n",
    "> Note: Conditional Probability can be interpreted as:<br>\"In what proportion of case in $F$ will also $E$ occur?\" or \"How does the probability of both $E$ and $F$ compare to the probability  of $F$ only?\"<br>\n",
    "\n",
    "<br>\n",
    "conditional probability is a proper probability and it satisfies  the axioms:<br>\n",
    "\n",
    "1. The conditional probability of any event is non-negative  :$P\\left\\lbrace E|F\\right\\rbrace \\ge 0$\n",
    "2. The conditional probability if the sample space is one :$P\\left\\lbrace \\Omega |F\\;\\right\\rbrace =1$\n",
    "3. For any finitely or countably infinitely many manually exclusive events $E_{1,} E_2 ,\\ldotp \\ldotp \\ldotp$ , $P\\left\\lbrace {\\bigcup_{i\\;} E_{i\\;} |F}_{\\;} \\right\\rbrace =\\sum_i P\\left\\lbrace E_i |F\\right\\rbrace \\;$"
   ]
  },
  {
   "cell_type": "markdown",
   "metadata": {},
   "source": [
    "### Corollary\n",
    "- $P\\left\\lbrace E^c |F\\right\\rbrace =1-P\\left\\lbrace E|F\\right\\rbrace$\n",
    "- $P\\left\\lbrace \\phi |F\\right\\rbrace =0$\n",
    "- $P\\left\\lbrace E|F\\right\\rbrace =1-P\\left\\lbrace E^c |F\\right\\rbrace \\le 1$\n",
    "- $P\\left\\lbrace \\left(E\\cup G\\right)|F\\right\\rbrace =P\\left\\lbrace E|F\\right\\rbrace +P\\left\\lbrace G|F\\right\\rbrace -P\\left\\lbrace E\\cap F|F\\right\\rbrace$<br>\n",
    "proof:<br>\n",
    "$\\begin{array}{l}\n",
    "P\\left\\lbrace \\left(E\\cup G\\right)|F\\right\\rbrace =\\frac{P\\left\\lbrace \\left(E\\cup G\\right)\\cap F\\right\\rbrace }{P\\left\\lbrace F\\right\\rbrace }=\\frac{P\\left\\lbrace \\left(E\\cap F\\right)\\cup \\left(G\\cap F\\right)\\right\\rbrace }{P\\left\\lbrace F\\right\\rbrace }\\\\\n",
    "=\\frac{P\\left(E\\cap F\\right)+P\\left(G\\cap F\\right)-P\\left\\lbrace \\left(E\\cap F\\right)\\cap \\;\\left(G\\cap F\\right)\\right\\rbrace }{P\\left\\lbrace F\\right\\rbrace }=\\frac{P\\left(E\\cap F\\right)+P\\left(G\\cap F\\right)-P\\left\\lbrace E\\cap G\\cap F\\right\\rbrace }{P\\left\\lbrace F\\right\\rbrace }\\\\\n",
    "=P\\left\\lbrace E|F\\right\\rbrace +P\\left\\lbrace G|F\\right\\rbrace -P\\left\\lbrace E\\cap F|F\\right\\rbrace \n",
    "\\end{array}$\n",
    "- if $E\\subseteq G$ then $P\\left\\lbrace \\left(G-E\\right)|F\\right\\rbrace =P\\left\\lbrace G|F\\right\\rbrace -P\\left\\lbrace E|F\\right\\rbrace$<br>\n",
    "proof:<br>\n",
    "$\\begin{array}{l}\n",
    "P\\left\\lbrace G|F\\right\\rbrace -P\\left\\lbrace E|F\\right\\rbrace =\\frac{\\;P\\left\\lbrace G\\cap F\\right\\rbrace }{P\\left\\lbrace \\mathrm{F}\\right\\rbrace }-\\frac{\\;P\\left\\lbrace E\\cap F\\right\\rbrace }{P\\left\\lbrace \\mathrm{F}\\right\\rbrace }\\\\\n",
    "=\\frac{P\\left\\lbrace \\left(G\\cap F\\right)-\\left(E\\cap F\\right)\\right\\rbrace \\;}{P\\left\\lbrace \\mathrm{F}\\right\\rbrace }=\\frac{P\\left\\lbrace \\left(G\\cap F\\right)\\cap {\\left(E\\cap F\\right)}^c \\right\\rbrace \\;}{P\\left\\lbrace \\mathrm{F}\\right\\rbrace }\\\\\n",
    "=\\frac{P\\left\\lbrace \\left(G\\cap F\\right)\\cap {\\left(E^{c\\;} \\cup F^{c\\;} \\right)}^{\\;} \\right\\rbrace \\;}{P\\left\\lbrace \\mathrm{F}\\right\\rbrace }=\\frac{P\\left\\lbrace G\\cap \\left(F\\cap {\\left(E^{c\\;} \\cup F^{c\\;} \\right)}^{\\;} \\right)\\right\\rbrace \\;}{P\\left\\lbrace \\mathrm{F}\\right\\rbrace }\\\\\n",
    "=\\frac{P\\left\\lbrace G\\cap \\left({\\left({F\\cap \\;E}^{c\\;} \\right)\\cup \\left({F\\cap \\;F}^{c\\;} \\right)}^{\\;} \\right)\\right\\rbrace \\;}{P\\left\\lbrace \\mathrm{F}\\right\\rbrace }=\\frac{P\\left\\lbrace G\\cap {F\\cap \\;E}^{c\\;} \\right\\rbrace \\;}{P\\left\\lbrace \\mathrm{F}\\right\\rbrace }\\\\\n",
    "=\\frac{P\\left\\lbrace G\\cap {\\;E}^{c\\;} \\cap F\\right\\rbrace \\;}{P\\left\\lbrace \\mathrm{F}\\right\\rbrace }=\\frac{P\\left\\lbrace \\left(G-{\\;E}^{\\;} \\right)\\cap F\\right\\rbrace \\;}{P\\left\\lbrace \\mathrm{F}\\right\\rbrace }=P\\left\\lbrace \\left(G-E\\right)|F\\right\\rbrace \n",
    "\\end{array}$<br>\n",
    "if $A\\subseteq B$ then $P\\left(B\\right)-P\\left(A\\right)=P\\left(B_{\\;} -A\\right)$ Here as $E\\subseteq G$ so $\\left(E\\cap F\\right)\\subseteq \\left(G\\cap F\\right)$ so we can write $P\\left\\lbrace G\\cap F\\right\\rbrace -\\;P\\left\\lbrace E\\cap F\\right\\rbrace=P\\left\\lbrace \\left(G\\cap F\\right)-\\left(E\\cap F\\right)\\right\\rbrace$<br>\n",
    "![](CS6660_images/1.jpg)\n",
    "- if $E\\subseteq G$ then $P\\left\\lbrace E|F\\right\\rbrace \\le P\\left\\lbrace G|F\\right\\rbrace$"
   ]
  },
  {
   "cell_type": "markdown",
   "metadata": {},
   "source": [
    "### Multiplication Rule\n",
    "For $E_1 ,E_2 ,\\ldotp \\ldotp \\ldotp E_n$ events:<br>\n",
    "$P\\left\\lbrace E_1 \\cap E_2 \\cap \\ldotp \\ldotp \\ldotp \\cap E_n \\right\\rbrace =P\\left\\lbrace E_1 \\right\\rbrace \\ldotp P\\left\\lbrace E_2 |E_1 \\right\\rbrace \\ldotp P\\left\\lbrace E_3 |E_1 \\cap E_2 \\right\\rbrace \\ldotp \\ldotp \\ldotp \\ldotp P\\left\\lbrace E_n |E_1 \\cap E_2 \\cap \\ldotp \\ldotp \\ldotp \\cap E_{n-1} \\right\\rbrace$"
   ]
  },
  {
   "cell_type": "markdown",
   "metadata": {},
   "source": [
    "### The law of total probability\n",
    "This is also known as partition theorem<br>\n",
    "For any events $E$ and $F$ <br>\n",
    "$P\\left\\lbrace E\\right\\rbrace =P\\left\\lbrace E|F\\right\\rbrace \\ldotp P\\left\\lbrace E\\right\\rbrace +P\\left\\lbrace E|F^c \\right\\rbrace \\ldotp P\\left\\lbrace F^c \\right\\rbrace$<br>\n",
    "$P\\left\\lbrace E\\right\\rbrace =\\sum_i P\\left\\lbrace E|F_i \\right\\rbrace \\ldotp P\\left\\lbrace F_i \\right\\rbrace$"
   ]
  },
  {
   "cell_type": "markdown",
   "metadata": {},
   "source": [
    "### Bayes' Theorem\n",
    "For any events $E$ and $F$ <br>\n",
    "$P\\left\\lbrace F|E\\right\\rbrace =\\frac{P\\left\\lbrace E|F\\right\\rbrace \\ldotp P\\left\\lbrace F\\right\\rbrace }{P\\left\\lbrace E|F\\right\\rbrace \\ldotp P\\left\\lbrace F\\right\\rbrace +P\\left\\lbrace E|F^c \\right\\rbrace \\ldotp P\\left\\lbrace F^c \\right\\rbrace }$<br>\n",
    "\n",
    "> Important: if ${\\left\\lbrace F_i \\right\\rbrace }_i$  is a complete system of events, then<br> $P\\left\\lbrace F_i |E\\right\\rbrace =\\frac{\\;P\\left\\lbrace E|F_i \\right\\rbrace \\ldotp P\\left\\lbrace F_i \\right\\rbrace }{\\sum_j \\;P\\left\\lbrace E|F_j \\right\\rbrace \\ldotp P\\left\\lbrace F_j \\right\\rbrace }$"
   ]
  }
 ],
 "metadata": {
  "kernelspec": {
   "display_name": "Python 3.7.8 64-bit",
   "language": "python",
   "name": "python3"
  },
  "language_info": {
   "name": "python",
   "version": "3.7.8"
  },
  "orig_nbformat": 4,
  "vscode": {
   "interpreter": {
    "hash": "0a54084e6b208ee8d1ce3989ffc20924477a5f55f5a43e22e699a6741623861e"
   }
  }
 },
 "nbformat": 4,
 "nbformat_minor": 2
}
