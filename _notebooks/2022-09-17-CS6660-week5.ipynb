{
 "cells": [
  {
   "cell_type": "markdown",
   "metadata": {},
   "source": [
    "# Linear Algebra CS6660 week 4\n",
    "> Mathematical Foundations of Data Science CS6660 week 4\n",
    "\n",
    "- toc: true \n",
    "- badges: false\n",
    "- comments: true\n",
    "- categories: [Mathematical Foundations of Data Science]\n",
    "- author: Abhishek Kumar Dubey\n",
    "- image: images/CS6660_images/Acrobat_DdKtM5v6Sg.png"
   ]
  },
  {
   "cell_type": "markdown",
   "metadata": {},
   "source": [
    "# Gaussian Elimination"
   ]
  },
  {
   "cell_type": "markdown",
   "metadata": {},
   "source": [
    "- Gaussian Elimination are elementary transformation of subsystems fo linear equations, which transforms the equation systems into a simple form.\n",
    "- Elementary transformation that keep the solution set the same, but that transform the equation system.\n",
    "- Process\n",
    "    - Exchange fo two equations (rows in the matrix representing the system of equations)\n",
    "    - Multiplication of an equation (row) with a constant $\\lambda \\in \\mathbb{R}-\\{0\\}$\n",
    "    - Addition of two equations (rows)"
   ]
  },
  {
   "cell_type": "markdown",
   "metadata": {},
   "source": [
    "- Example : <br><br>\n",
    "$\\begin{array}{r r r r r r r r r r}\n",
    "-2x_1 & + & 4x_2 & - & 2x_3 & - & x_4 & + & 4x_5 & = & -3 \\\\\n",
    "4x_1 & - & 8x_2 & + & 3x_3 & - & 3x_4 & + & x_5 & = & 2 \\\\\n",
    "x_1 & - & 2x_2 & + & x_3 & - & x_4 & + & x_5 & = & 0 \\\\\n",
    "x_1 & - & 2x_2 &   &    & - & 3x_4 & + & 4x_5 & = & a \\\\\n",
    "\\end{array}$ <br><br>\n",
    "Build the _augmented matrix (in the form of $\\left[A \\mid b\\right]$ ) <br><br>\n",
    "$ \\left[ \\begin{array}{r r r r r | r}\n",
    "-2 & 4 & -2 & -1 & 4 & -3 \\\\\n",
    " 4 &-8 &  3 & -3 & 1 &  2 \\\\\n",
    " 1 &-2 &  1 & -1 & 1 &  0 \\\\\n",
    " 1 &-2 &  0 & -3 & 4 &  a \\\\\n",
    "\\end{array}\\right] \n",
    "$ <br><br>\n",
    "Exchange row $3$ and row $1$  for simplicity <br><br>\n",
    "$ \\left[ \\begin{array}{r r r r r | r}\n",
    " 1 &-2 &  1 & -1 & 1 &  0 \\\\\n",
    " 4 &-8 &  3 & -3 & 1 &  2 \\\\\n",
    "-2 & 4 & -2 & -1 & 4 & -3 \\\\\n",
    " 1 &-2 &  0 & -3 & 4 &  a \\\\\n",
    "\\end{array}\\right] \n",
    "$ <br><br>\n",
    "Perform operations $\\{ R_2 \\leftarrow R_2 - 4R_1, R_3 \\leftarrow  R_3+2R_1, R_4 \\leftarrow R_4-R_1 \\}$<br><br>\n",
    "$ \\left[ \\begin{array}{r r r r r | r}\n",
    " 1 &-2 &  1 & -1 & 1 &  0 \\\\\n",
    " 0 & 0 & -1 &  1 & -3 &  2 \\\\\n",
    " 0 & 0 &  0 & -3 & 6 & -3 \\\\\n",
    " 0 & 0 & -1 & -2 & 3 &  a \\\\\n",
    "\\end{array}\\right] \n",
    "$ <br><br>\n",
    "Perform operations $\\{ R_4 \\leftarrow R_4 - R_2 -R_3 \\}$<br><br>\n",
    "$ \\left[ \\begin{array}{r r r r r | r}\n",
    " 1 &-2 &  1 & -1 &  1 &  0 \\\\\n",
    " 0 & 0 & -1 &  1 & -3 &  2 \\\\\n",
    " 0 & 0 &  0 & -3 &  6 & -3 \\\\\n",
    " 0 & 0 &  0 &  0 &  0 &  a \\\\\n",
    "\\end{array}\\right] \n",
    "$ <br><br>\n",
    "Perform operations $\\{ R_2 \\leftarrow -R_2 , R_3 \\leftarrow -\\frac{1}{3}R_3  \\}$<br><br>\n",
    "$ \\left[ \\begin{array}{r r r r r | r}\n",
    " 1 &-2 &  1 & -1 &  1 &  0 \\\\\n",
    " 0 & 0 &  1 & -1 &  3 & -2 \\\\\n",
    " 0 & 0 &  0 &  1 & -2 &  1 \\\\\n",
    " 0 & 0 &  0 &  0 &  0 &  a+1 \\\\\n",
    "\\end{array}\\right] \n",
    "$ <br><br>\n",
    "Above matrix is in __row-echelon from__<br><br>\n",
    "Convert above matrix to normal equation form <br><br>\n",
    "$  \\begin{array}{l l l l l  l r}\n",
    " x_1 &-2x_2 &  +x_3 & -x_4 &  +x_5 & = & 0 \\\\\n",
    "   &   &  +x_3 & -x_4 &  +3x_5 &  = & -2 \\\\\n",
    "   &   &    & +x_4 & -2x_5 &   = & 1 \\\\\n",
    "   &   &    &    &  +0 &   = & a+1 \\\\\n",
    "\\end{array} \n",
    "$ <br><br>\n",
    "Only for $a=1$ this system can be solved, and can be solved using   back substitution <br><br>\n",
    "$\\left[  \\begin{array}{r} \n",
    "x_1 \\\\\n",
    "x_2 \\\\\n",
    "x_3 \\\\\n",
    "x_4 \\\\\n",
    "x_5 \\\\\n",
    "\\end{array}\\right] =\n",
    "\\left[  \\begin{array}{r} \n",
    " 2 \\\\\n",
    " 0\\\\\n",
    "-1 \\\\\n",
    "1 \\\\\n",
    "0 \\\\\n",
    "\\end{array}\\right]$ <br><br>\n",
    "General solution of the above equation can be found as explained earlier, and is given as below <br> <br>\n",
    "$\\left\\{x\\in\\mathbb{R}^{5}:x= {\\left[\\begin{array}{r}{2}\\\\ {0}\\\\ {-1}\\\\ {1} \\\\0 \\end{array}\\right]}    + \\lambda_{1}{\\left[\\begin{array}{r}{2}\\\\ {1}\\\\ {0}\\\\ {0} \\\\0 \\end{array}\\right]}   + \\lambda_{2}{\\left[\\begin{array}{r}{2}\\\\ {0}\\\\ {-1}\\\\ {2} \\\\1\\end{array}\\right]},\\;\\;\\ \\lambda_{1},\\lambda_{2}\\in\\mathbb{R}\\right\\}$"
   ]
  },
  {
   "cell_type": "markdown",
   "metadata": {},
   "source": [
    "# Row-Echelon Form"
   ]
  },
  {
   "cell_type": "markdown",
   "metadata": {},
   "source": [
    "- Example matrix <br><br>\n",
    "$ \\left[ \\begin{array}{r r r r r | r}\n",
    " \\boxed 1 &-2 &  1 & -1 &  1 &  0 \\\\\n",
    " 0 & 0 &  \\boxed  1 & -1 &  3 & -2 \\\\\n",
    " 0 & 0 &  0 &  \\boxed  1 & -2 &  1 \\\\\n",
    " 0 & 0 &  0 &  0 &  0 &  a+1 \\\\\n",
    "\\end{array}\\right] \n",
    "$ <br><br>"
   ]
  },
  {
   "cell_type": "markdown",
   "metadata": {},
   "source": [
    "- Definition <br>\n",
    "  A matrix is in row-echelon form if \n",
    "    - All rows that contains only zeros are at the bottom ot the matrix; correspondingly, all rows that contains at least one nonzero element are on top of rows that contain only zeros.\n",
    "    - Looking at nonzero rows only, the first nonzero number from the left ( also called the pivot or the leading coefficient ) is always strictly to the right of the pivot of the row above it.\n",
    "    "
   ]
  },
  {
   "cell_type": "markdown",
   "metadata": {},
   "source": [
    "- Basic and free variables : The variables corresponding to the pivots in the row-echelon form are called basic variables and the other variables are free variables. For example, $x_1; x_3; x_4 $ are basic variables, whereas $x_2;x_5$ are free variables in above example matrix. "
   ]
  },
  {
   "cell_type": "markdown",
   "metadata": {},
   "source": [
    "# Reduced row Echelon Forms \n"
   ]
  },
  {
   "cell_type": "markdown",
   "metadata": {},
   "source": [
    "- Definition <br>\n",
    "  An equation system is in reduced row echelon form ( also: rwo reduced echelon form or row canonical from ) if \n",
    "    - It is in row echelon from.\n",
    "    - Every pivot is 1.\n",
    "    - The pivot is the only nonzero entry in its column."
   ]
  },
  {
   "cell_type": "markdown",
   "metadata": {},
   "source": [
    "# Solving $AX=0$ (Minus $1$ Trick)"
   ]
  },
  {
   "cell_type": "markdown",
   "metadata": {},
   "source": [
    "- Example Matrix <br><br>\n",
    "$ \\left[ \\begin{array}{r r r r r}\n",
    "1 & 3 & 0 & 0 & 3 \\\\ \n",
    "0 & 0 & 1 & 0 & 9 \\\\ \n",
    "0 & 0 & 0 & 1 & -4 \\\\ \n",
    "\\end{array}\\right]\n",
    "$<br><br>\n",
    "For finding the solutions of $AX=0$ is to look at the non-pivot columns, which we will need to express as a (linear) combination of the pivot columns. <br><br>\n",
    "$\\left\\{x\\in\\mathbb{R}^{5}:x=  \\lambda_{1}{\\left[\\begin{array}{r}3\\\\ -1\\\\ 0\\\\ 0 \\\\0 \\end{array}\\right]}   + \\lambda_{2}{\\left[\\begin{array}{r}3\\\\ 0\\\\ 9\\\\ -4 \\\\ -1\\end{array}\\right]},\\;\\;\\ \\lambda_{1},\\lambda_{2}\\in\\mathbb{R}\\right\\}$ <br><br>\n",
    "Insert row in place of free variable ( $2^{\\text{nd}}$ and $5^{\\text{th}}$) with $ -1 $ value in place of dependent variable as shown below  <br><br>\n",
    "$\\tilde{A}  =  \\left[ \\begin{array}{r r r r r}\n",
    "1 & 3 & 0 & 0 & 3 \\\\ \n",
    "\\boxed 0 & \\boxed { \\mathbf {-1}} & \\boxed 0 & \\boxed 0 & \\boxed 0 \\\\ \n",
    "0 & 0 & 1 & 0 & 9 \\\\ \n",
    "0 & 0 & 0 & 1 & -4 \\\\ \n",
    "\\boxed 0 & \\boxed 0 & \\boxed 0 & \\boxed 0 & \\boxed {\\mathbf {-1}} \\\\ \n",
    "\\end{array}\\right]\n",
    "$<br><br>\n",
    "Now the solution for $AX=0$ can be found by the columns of the the free variable which is $2^{\\text{nd}}$ and $5^{\\text{th}}$ column. \n"
   ]
  },
  {
   "cell_type": "markdown",
   "metadata": {},
   "source": [
    "# Solving a System of Liner Equation "
   ]
  },
  {
   "cell_type": "markdown",
   "metadata": {},
   "source": [
    "- Inversion of matrices which are not square and non-invertible.<br>\n",
    "  $Ax=b$ is given as $x=A^{-1}b$ <br>\n",
    "  $Ax=b \\Longleftrightarrow A^TAx=A^Tb \\Longleftrightarrow x= (A^TA)^{-1}A^Tb $<br>\n",
    "  This is called _Moore-Penrose pseudo-inverse_ <br>\n",
    "  The disadvantage of this method is that it requires a lot of computation."
   ]
  },
  {
   "cell_type": "markdown",
   "metadata": {},
   "source": [
    "- Gaussian Elimination plays a key role in\n",
    "    - Computing determinants \n",
    "    - Checking whether a set of vectors is linearly independent \n",
    "    - Computing the rank of the matrix\n",
    "    - Determining a basis of the vector space."
   ]
  }
 ],
 "metadata": {
  "kernelspec": {
   "display_name": "Python 3.9.12 ('base')",
   "language": "python",
   "name": "python3"
  },
  "language_info": {
   "name": "python",
   "version": "3.9.12"
  },
  "orig_nbformat": 4,
  "vscode": {
   "interpreter": {
    "hash": "b92a85dd111e7f234cbdfd9e3dc75ce12717f6161daa18a82d26f0e8e840c205"
   }
  }
 },
 "nbformat": 4,
 "nbformat_minor": 2
}
