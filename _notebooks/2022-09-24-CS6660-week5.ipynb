{
 "cells": [
  {
   "cell_type": "markdown",
   "metadata": {},
   "source": [
    "# Probability Theory CS6660 week 5\n",
    "> Mathematical Foundations of Data Science CS6660 week 5\n",
    "\n",
    "- toc: true \n",
    "- badges: false\n",
    "- comments: true\n",
    "- categories: [Mathematical Foundations of Data Science]\n",
    "- author: Abhishek Kumar Dubey\n",
    "- image: images/CS6660_images/chrome_pPYR2UCfXR.png"
   ]
  },
  {
   "cell_type": "markdown",
   "metadata": {},
   "source": [
    "# Distribution function "
   ]
  },
  {
   "cell_type": "markdown",
   "metadata": {},
   "source": [
    "## Cumulative distribution function "
   ]
  },
  {
   "cell_type": "markdown",
   "metadata": {},
   "source": [
    "- The cumulative distribution function (CDF) of a random variable $X$ is given by <br>\n",
    "  $F : \\mathbb{R} \\rightarrow [0,1], \\;\\;\\;\\; x \\rightarrow F(x) = p\\{ X \\le x\\} $ <br>\n",
    "  Notice that the function is well defined for any random variable.\n",
    "- Remark: Ther distribution function contains all relevant information about the distribution of our random variable. E.g., for any fixed     $a<b$  <br>\n",
    " $\\mathsf{P}\\{a<X\\leq b\\}=\\mathsf{P}\\{X\\leq b\\}-\\mathsf{P}\\{X\\leq a\\}=F(b)-\\mathsf{P}(a)$<br>\n",
    " $\\mathsf{P}\\{a\\leq X<b\\}=\\mathsf{P}\\{a<X\\leq b\\} -\\mathsf{P}\\{X\\leq b\\} +\\mathsf{P}\\{X\\leq a\\} $<br>\n",
    "- Probability at jump is given by difference between jump points, e.g. <br><br>\n",
    "![](../images/CS6660_images/Acrobat_Zy9lqOtKqv.png)<br><br>\n",
    "$p(X = 2) = \\frac{7}{8} - \\frac{4}{8} =\\frac{3}{8}$"
   ]
  },
  {
   "cell_type": "markdown",
   "metadata": {},
   "source": [
    "- A random variable with piecewise constant distribution function is called discrete. It's mass function values equal to the jump size in the distribution function."
   ]
  },
  {
   "cell_type": "markdown",
   "metadata": {},
   "source": [
    "- Proposition <br>\n",
    "A cumulative distribution function $F$ <br>\n",
    "    - Is non-decreasing\n",
    "    - has limit $\\lim_{x \\rightarrow - \\infty} F(X) =0 $ on the left;\n",
    "    - has limit $\\lim_{x \\rightarrow + \\infty} F(X) =1 $ on the right;\n",
    "    - Is continuous form the right.\n",
    "- Any function $F$ with the above properties is a cumulative distribution function. There is a sample space and a random variable on it that realizes this distribution function."
   ]
  },
  {
   "cell_type": "markdown",
   "metadata": {},
   "source": [
    "# Density function"
   ]
  },
  {
   "cell_type": "markdown",
   "metadata": {},
   "source": [
    "- Suppose that  a random variable has it's distribution function in the form of <br>\n",
    "$\\displaystyle F(a) = \\int _{- \\infty}^a f(X) dX, \\;\\;\\;\\; \\forall a \\in \\mathbb{R}$ <br>\n",
    "with a function $f \\ge 0$. Then the distribution is called (absolutely) continuous, and $f$ is the probability density function (pdf).\n",
    "- Proposition <br>\n",
    "A probability density function $f$ \n",
    "    - Is non-negative\n",
    "    - Has total integral $\\displaystyle \\int _{- \\infty} ^ \\infty f(x) dx =1$\n",
    "- Any function $f$ with the above properties is a probability density function. There is a sample space and a continuous random variable on it that realizes this density."
   ]
  },
  {
   "cell_type": "markdown",
   "metadata": {},
   "source": [
    "## Properties of the density function "
   ]
  },
  {
   "cell_type": "markdown",
   "metadata": {},
   "source": [
    "- Proposition <br>\n",
    "  For any subset $B \\subseteq \\mathbb{R},$ <br>\n",
    "  $\\displaystyle P\\{X \\in B \\} = \\int _B f(x) dx$\n",
    "- Corollary <br>\n",
    "  Indeed, for a continuous random variable $X,$<br>\n",
    "  $\\displaystyle P\\{X \\in a \\} = \\int _{\\{a\\}} f(x) dx = 0 \\;\\;\\;\\;\\; \\forall a \\in \\mathbb{R}$\n",
    "- Corollary <br>\n",
    "  For a small $\\varepsilon ,$  <br>\n",
    "  $\\displaystyle P\\{X \\in (a,a+\\varepsilon] \\} = \\int _a ^{a + \\varepsilon} f(x) dx \\simeq  f(a) \\cdot \\varepsilon$\n",
    "- There is no particular value that $X$ can take on with positive chance. We can only talk about intervals, and density tells us the likelihood that $X$ is around a point $a$.\n",
    "- To get to the density from an absolutely continuous distribution function, <br> \n",
    "  $\\displaystyle f(a) = \\frac{dF(a)}{da}\\;\\;\\;\\; a \\in \\mathbb{R}$ "
   ]
  },
  {
   "cell_type": "markdown",
   "metadata": {},
   "source": [
    "# Expectation, Variance"
   ]
  },
  {
   "cell_type": "markdown",
   "metadata": {},
   "source": [
    "- The way of defining the expectation will be no surprise for anyone (c.f the discrete case): <br>\n",
    "- Definition: <br>\n",
    "  The expected value of a continuous random variable $X$ is defined by <br>\n",
    "  $\\displaystyle EX = \\int_{- \\infty}^ \\infty X \\cdot f(X)dX,$ <br>\n",
    "  if the integral exists.\n",
    "- Proposition <br>\n",
    "  Let $X$  be a continuous random variable, and $g$ an $\\mathbb{R } \\rightarrow \\mathbb{R }$ function then <br>\n",
    "   $\\displaystyle Eg(X)= \\int _{- \\infty} ^{\\infty} g(X) \\cdot f(X) dX, \\;\\;\\;\\;\\;$ if exists.\n",
    "- We can define <br>\n",
    "  Moments: <br>\n",
    "  $\\displaystyle EX^n= \\int _{- \\infty} ^{\\infty} X^n \\cdot f(X) dX, $ \n",
    "  Absolute moments: <br>\n",
    "  $\\displaystyle E|X|^n= \\int _{- \\infty} ^{\\infty} |X| ^n \\cdot f(X) dX, $   <br>\n",
    "  variance $\\text{Var}X = E(X-EX)^2=EX^2-(EX)^2$ and standard deviation $\\text{SD}X= \\sqrt{\\text{Var}X }$ as in the discrete case. These enjoy the same properties as before."
   ]
  },
  {
   "cell_type": "markdown",
   "metadata": {},
   "source": [
    "# Uniform "
   ]
  },
  {
   "cell_type": "markdown",
   "metadata": {},
   "source": [
    "- Definition <br>\n",
    "  Fix $\\alpha < \\beta$ reals. We say that $X$ has the uniform distribution over the interval $(\\alpha , \\beta ),$ in short, $X \\sim U(\\alpha , \\beta),$ if it's density is given by <br><br>\n",
    "  $f(X) = \\left\\lbrace \\begin{array}{c c}\n",
    "  \\displaystyle \\frac{1}{\\beta -\\alpha} & \\text{if } X \\in (\\alpha,\\beta),\\\\\n",
    "  0, & \\text{otherwise}\n",
    "  \\end{array}\\right .\n",
    "  $ <br><br>\n",
    "- Notice that this is exactly the value of the constant that makes this a density.<br><br><br>\n",
    "- Example: Integrating  the density <br><br>\n",
    "  $F(X) = \\left\\lbrace \\begin{array}{l l}\n",
    "  0,&\\text{if } X \\le \\alpha, \\\\\n",
    "  \\displaystyle \\frac{X-\\alpha}{\\beta -\\alpha}, & \\text{if } X \\in (\\alpha,\\beta),\\\\\n",
    "  1, & \\text{otherwise}\n",
    "  \\end{array}\\right .\n",
    "  $ <br><br>\n",
    "![](../images/CS6660_images/Acrobat_BY1t0aZJd5.png)<br><br>\n",
    "- Remarks: <br>\n",
    "  If $X \\sim U (\\alpha , \\beta), $ and $\\alpha < a <b < \\beta $ then <br>\n",
    "  $\\displaystyle P\\{a < X \\le b\\} = \\int_a^b f(X)dX=\\frac{b-a}{\\beta - \\alpha }$<br>\n",
    "  Probabilities are computed by proportions of lengths. \n"
   ]
  },
  {
   "cell_type": "markdown",
   "metadata": {},
   "source": [
    "## Expectation, Variance"
   ]
  },
  {
   "cell_type": "markdown",
   "metadata": {},
   "source": [
    "- For $X \\sim U(\\alpha , \\beta ),$ <br><br>\n",
    "  $\\boxed{ \\displaystyle  EX =\\frac{\\alpha + \\beta }{2}, \\;\\;\\;\\; \\text{Var}X = \\frac{(\\beta - \\alpha)^2}{12}}$<br><br>\n",
    "- proof of $EX$ <br>\n",
    "  $\\displaystyle  EX= \\int_{- \\infty}^{\\infty} Xf(X)dX= \\int_{\\alpha}^{\\beta} \\frac{X}{\\beta - \\alpha}dX=\\frac{\\frac{\\beta ^2}{2} - \\frac{\\alpha ^2}{2}}{\\beta - \\alpha}=\\frac{\\alpha + \\beta}{2}$\n",
    "- proof of $ \\text{Var}X $ <br>\n",
    "  First find $EX^2$<br>\n",
    "  $\\displaystyle  EX^2= \\int_{- \\infty}^{\\infty} X^2f(X)dX= \\int_{\\alpha}^{\\beta} \\frac{X^2}{\\beta - \\alpha}dX=\\frac{\\frac{\\beta ^3}{3} - \\frac{\\alpha ^3}{3}}{3(\\beta - \\alpha)}=\\frac{\\alpha^2+\\alpha \\beta  + \\beta^2}{3}$<br><br>\n",
    "  $\\displaystyle \\text{Var}X = EX^2-(EX)^2 = \\frac{\\alpha^2+\\alpha \\beta  + \\beta^2}{3}- \\frac{(\\alpha + \\beta)^2}{4}=\\frac{ \\beta^2 -2\\alpha \\beta + \\alpha^2}{12}$<br><br>\n",
    "  $\\displaystyle \\text{Var}X = EX^2-(EX)^2 = \\frac{(\\beta-\\alpha )^2}{12}$\n"
   ]
  }
 ],
 "metadata": {
  "kernelspec": {
   "display_name": "Python 3.9.12 ('base')",
   "language": "python",
   "name": "python3"
  },
  "language_info": {
   "name": "python",
   "version": "3.9.12"
  },
  "orig_nbformat": 4,
  "vscode": {
   "interpreter": {
    "hash": "b92a85dd111e7f234cbdfd9e3dc75ce12717f6161daa18a82d26f0e8e840c205"
   }
  }
 },
 "nbformat": 4,
 "nbformat_minor": 2
}
